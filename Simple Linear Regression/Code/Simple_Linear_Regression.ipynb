{
 "cells": [
  {
   "cell_type": "markdown",
   "id": "ccd1fe94",
   "metadata": {},
   "source": [
    "## Simple Linear Regression- Predicting DeliveryTime"
   ]
  },
  {
   "cell_type": "code",
   "execution_count": 1,
   "id": "2d706375",
   "metadata": {},
   "outputs": [],
   "source": [
    "import pandas as pd \n",
    "import numpy as np\n",
    "import matplotlib.pyplot as plt \n",
    "import seaborn as sns"
   ]
  },
  {
   "cell_type": "code",
   "execution_count": 2,
   "id": "7cb362af",
   "metadata": {},
   "outputs": [],
   "source": [
    "time_df=pd.read_csv(\"delivery_time.csv\")"
   ]
  },
  {
   "cell_type": "code",
   "execution_count": 3,
   "id": "c750bdc9",
   "metadata": {
    "scrolled": true
   },
   "outputs": [
    {
     "data": {
      "text/html": [
       "<div>\n",
       "<style scoped>\n",
       "    .dataframe tbody tr th:only-of-type {\n",
       "        vertical-align: middle;\n",
       "    }\n",
       "\n",
       "    .dataframe tbody tr th {\n",
       "        vertical-align: top;\n",
       "    }\n",
       "\n",
       "    .dataframe thead th {\n",
       "        text-align: right;\n",
       "    }\n",
       "</style>\n",
       "<table border=\"1\" class=\"dataframe\">\n",
       "  <thead>\n",
       "    <tr style=\"text-align: right;\">\n",
       "      <th></th>\n",
       "      <th>Delivery Time</th>\n",
       "      <th>Sorting Time</th>\n",
       "    </tr>\n",
       "  </thead>\n",
       "  <tbody>\n",
       "    <tr>\n",
       "      <th>0</th>\n",
       "      <td>21.00</td>\n",
       "      <td>10</td>\n",
       "    </tr>\n",
       "    <tr>\n",
       "      <th>1</th>\n",
       "      <td>13.50</td>\n",
       "      <td>4</td>\n",
       "    </tr>\n",
       "    <tr>\n",
       "      <th>2</th>\n",
       "      <td>19.75</td>\n",
       "      <td>6</td>\n",
       "    </tr>\n",
       "    <tr>\n",
       "      <th>3</th>\n",
       "      <td>24.00</td>\n",
       "      <td>9</td>\n",
       "    </tr>\n",
       "    <tr>\n",
       "      <th>4</th>\n",
       "      <td>29.00</td>\n",
       "      <td>10</td>\n",
       "    </tr>\n",
       "  </tbody>\n",
       "</table>\n",
       "</div>"
      ],
      "text/plain": [
       "   Delivery Time  Sorting Time\n",
       "0          21.00            10\n",
       "1          13.50             4\n",
       "2          19.75             6\n",
       "3          24.00             9\n",
       "4          29.00            10"
      ]
     },
     "execution_count": 3,
     "metadata": {},
     "output_type": "execute_result"
    }
   ],
   "source": [
    "time_df.head()"
   ]
  },
  {
   "cell_type": "markdown",
   "id": "2485c3e6",
   "metadata": {},
   "source": [
    "### EDA"
   ]
  },
  {
   "cell_type": "code",
   "execution_count": 4,
   "id": "1f70fa3e",
   "metadata": {
    "scrolled": true
   },
   "outputs": [
    {
     "name": "stdout",
     "output_type": "stream",
     "text": [
      "<class 'pandas.core.frame.DataFrame'>\n",
      "RangeIndex: 21 entries, 0 to 20\n",
      "Data columns (total 2 columns):\n",
      " #   Column         Non-Null Count  Dtype  \n",
      "---  ------         --------------  -----  \n",
      " 0   Delivery Time  21 non-null     float64\n",
      " 1   Sorting Time   21 non-null     int64  \n",
      "dtypes: float64(1), int64(1)\n",
      "memory usage: 464.0 bytes\n"
     ]
    }
   ],
   "source": [
    "time_df.info()"
   ]
  },
  {
   "cell_type": "code",
   "execution_count": 5,
   "id": "0d318143",
   "metadata": {},
   "outputs": [
    {
     "data": {
      "text/plain": [
       "(21, 2)"
      ]
     },
     "execution_count": 5,
     "metadata": {},
     "output_type": "execute_result"
    }
   ],
   "source": [
    "time_df.shape"
   ]
  },
  {
   "cell_type": "markdown",
   "id": "5c40abb7",
   "metadata": {},
   "source": [
    "### Outliers Detection"
   ]
  },
  {
   "cell_type": "code",
   "execution_count": 6,
   "id": "2e82d723",
   "metadata": {},
   "outputs": [
    {
     "data": {
      "image/png": "[encoded data removed]",
      "text/plain": [
       "<Figure size 432x288 with 2 Axes>"
      ]
     },
     "metadata": {
      "needs_background": "light"
     },
     "output_type": "display_data"
    }
   ],
   "source": [
    "time_df.plot(kind='box',subplots=True)\n",
    "plt.tight_layout();"
   ]
  },
  {
   "cell_type": "markdown",
   "id": "d9df1ffd",
   "metadata": {},
   "source": [
    "### Co-relation Analysis"
   ]
  },
  {
   "cell_type": "code",
   "execution_count": 7,
   "id": "ec96d257",
   "metadata": {},
   "outputs": [
    {
     "data": {
      "text/html": [
       "<div>\n",
       "<style scoped>\n",
       "    .dataframe tbody tr th:only-of-type {\n",
       "        vertical-align: middle;\n",
       "    }\n",
       "\n",
       "    .dataframe tbody tr th {\n",
       "        vertical-align: top;\n",
       "    }\n",
       "\n",
       "    .dataframe thead th {\n",
       "        text-align: right;\n",
       "    }\n",
       "</style>\n",
       "<table border=\"1\" class=\"dataframe\">\n",
       "  <thead>\n",
       "    <tr style=\"text-align: right;\">\n",
       "      <th></th>\n",
       "      <th>Delivery Time</th>\n",
       "      <th>Sorting Time</th>\n",
       "    </tr>\n",
       "  </thead>\n",
       "  <tbody>\n",
       "    <tr>\n",
       "      <th>Delivery Time</th>\n",
       "      <td>1.00</td>\n",
       "      <td>0.83</td>\n",
       "    </tr>\n",
       "    <tr>\n",
       "      <th>Sorting Time</th>\n",
       "      <td>0.83</td>\n",
       "      <td>1.00</td>\n",
       "    </tr>\n",
       "  </tbody>\n",
       "</table>\n",
       "</div>"
      ],
      "text/plain": [
       "               Delivery Time  Sorting Time\n",
       "Delivery Time           1.00          0.83\n",
       "Sorting Time            0.83          1.00"
      ]
     },
     "execution_count": 7,
     "metadata": {},
     "output_type": "execute_result"
    }
   ],
   "source": [
    "corelation=np.round(time_df.corr(),2)\n",
    "corelation"
   ]
  },
  {
   "cell_type": "code",
   "execution_count": 8,
   "id": "3c8e4eb0",
   "metadata": {},
   "outputs": [
    {
     "data": {
      "image/png": "[encoded data removed]",
      "text/plain": [
       "<Figure size 432x288 with 2 Axes>"
      ]
     },
     "metadata": {
      "needs_background": "light"
     },
     "output_type": "display_data"
    }
   ],
   "source": [
    "sns.heatmap(data=corelation,annot=True,vmax=1,vmin=-1,cmap='plasma',mask=np.triu(corelation,1));"
   ]
  },
  {
   "cell_type": "markdown",
   "id": "28bb1f93",
   "metadata": {},
   "source": [
    "### Check for Duplicates and empty rows"
   ]
  },
  {
   "cell_type": "code",
   "execution_count": 9,
   "id": "ad5244bc",
   "metadata": {},
   "outputs": [
    {
     "data": {
      "text/plain": [
       "0"
      ]
     },
     "execution_count": 9,
     "metadata": {},
     "output_type": "execute_result"
    }
   ],
   "source": [
    "time_df.duplicated().sum()"
   ]
  },
  {
   "cell_type": "code",
   "execution_count": 10,
   "id": "cbee46d6",
   "metadata": {},
   "outputs": [
    {
     "data": {
      "text/plain": [
       "[{'mean': 6.190476190476191,\n",
       "  'iqr': 4.0,\n",
       "  'cilo': 4.629591649317968,\n",
       "  'cihi': 7.370408350682032,\n",
       "  'whishi': 10,\n",
       "  'whislo': 2,\n",
       "  'fliers': array([], dtype=int64),\n",
       "  'q1': 4.0,\n",
       "  'med': 6.0,\n",
       "  'q3': 8.0}]"
      ]
     },
     "execution_count": 10,
     "metadata": {},
     "output_type": "execute_result"
    }
   ],
   "source": [
    "from matplotlib.cbook import boxplot_stats\n",
    "boxplot_stats(time_df['Sorting Time'])"
   ]
  },
  {
   "cell_type": "code",
   "execution_count": 11,
   "id": "904d566e",
   "metadata": {},
   "outputs": [
    {
     "data": {
      "text/plain": [
       "Delivery Time    0\n",
       "Sorting Time     0\n",
       "dtype: int64"
      ]
     },
     "execution_count": 11,
     "metadata": {},
     "output_type": "execute_result"
    }
   ],
   "source": [
    "time_df.isnull().sum()"
   ]
  },
  {
   "cell_type": "markdown",
   "id": "4d95bce6",
   "metadata": {},
   "source": [
    "### Model Building using Statsmodels"
   ]
  },
  {
   "cell_type": "code",
   "execution_count": 12,
   "id": "bbed16d3",
   "metadata": {
    "scrolled": true
   },
   "outputs": [
    {
     "name": "stdout",
     "output_type": "stream",
     "text": [
      "                            OLS Regression Results                            \n",
      "==============================================================================\n",
      "Dep. Variable:           DeliveryTime   R-squared:                       0.682\n",
      "Model:                            OLS   Adj. R-squared:                  0.666\n",
      "Method:                 Least Squares   F-statistic:                     40.80\n",
      "Date:                Mon, 06 Mar 2023   Prob (F-statistic):           3.98e-06\n",
      "Time:                        11:12:53   Log-Likelihood:                -51.357\n",
      "No. Observations:                  21   AIC:                             106.7\n",
      "Df Residuals:                      19   BIC:                             108.8\n",
      "Df Model:                           1                                         \n",
      "Covariance Type:            nonrobust                                         \n",
      "===============================================================================\n",
      "                  coef    std err          t      P>|t|      [0.025      0.975]\n",
      "-------------------------------------------------------------------------------\n",
      "Intercept       6.5827      1.722      3.823      0.001       2.979      10.186\n",
      "SortingTime     1.6490      0.258      6.387      0.000       1.109       2.189\n",
      "==============================================================================\n",
      "Omnibus:                        3.649   Durbin-Watson:                   1.248\n",
      "Prob(Omnibus):                  0.161   Jarque-Bera (JB):                2.086\n",
      "Skew:                           0.750   Prob(JB):                        0.352\n",
      "Kurtosis:                       3.367   Cond. No.                         18.3\n",
      "==============================================================================\n",
      "\n",
      "Notes:\n",
      "[1] Standard Errors assume that the covariance matrix of the errors is correctly specified.\n"
     ]
    }
   ],
   "source": [
    "from statsmodels.formula.api import ols\n",
    "time_df=time_df.rename({\"Sorting Time\":\"SortingTime\",\"Delivery Time\":\"DeliveryTime\"},axis=1)\n",
    "model=ols(formula='DeliveryTime ~ SortingTime',data=time_df).fit()\n",
    "print(model.summary())"
   ]
  },
  {
   "cell_type": "code",
   "execution_count": 13,
   "id": "aa5ae981",
   "metadata": {},
   "outputs": [
    {
     "data": {
      "text/plain": [
       "Intercept      6.582734\n",
       "SortingTime    1.649020\n",
       "dtype: float64"
      ]
     },
     "execution_count": 13,
     "metadata": {},
     "output_type": "execute_result"
    }
   ],
   "source": [
    "model.params"
   ]
  },
  {
   "cell_type": "code",
   "execution_count": 14,
   "id": "505dd98c",
   "metadata": {
    "scrolled": true
   },
   "outputs": [
    {
     "data": {
      "text/plain": [
       "Intercept      0.001147\n",
       "SortingTime    0.000004\n",
       "dtype: float64"
      ]
     },
     "execution_count": 14,
     "metadata": {},
     "output_type": "execute_result"
    }
   ],
   "source": [
    "model.pvalues"
   ]
  },
  {
   "cell_type": "code",
   "execution_count": 15,
   "id": "537cd8b0",
   "metadata": {},
   "outputs": [
    {
     "data": {
      "text/plain": [
       "0.6822714748417231"
      ]
     },
     "execution_count": 15,
     "metadata": {},
     "output_type": "execute_result"
    }
   ],
   "source": [
    "model.rsquared"
   ]
  },
  {
   "cell_type": "markdown",
   "id": "f6c224e2",
   "metadata": {},
   "source": [
    "### Model Building using SKLEARN"
   ]
  },
  {
   "cell_type": "code",
   "execution_count": 16,
   "id": "6b0b8171",
   "metadata": {},
   "outputs": [],
   "source": [
    "from sklearn.linear_model import LinearRegression"
   ]
  },
  {
   "cell_type": "code",
   "execution_count": 17,
   "id": "5326f295",
   "metadata": {},
   "outputs": [],
   "source": [
    "slr_delivery=LinearRegression()"
   ]
  },
  {
   "cell_type": "code",
   "execution_count": 18,
   "id": "52781642",
   "metadata": {},
   "outputs": [
    {
     "data": {
      "text/plain": [
       "LinearRegression()"
      ]
     },
     "execution_count": 18,
     "metadata": {},
     "output_type": "execute_result"
    }
   ],
   "source": [
    "slr_delivery.fit(pd.DataFrame(time_df['SortingTime']),time_df['DeliveryTime'])"
   ]
  },
  {
   "cell_type": "code",
   "execution_count": 19,
   "id": "5026f79f",
   "metadata": {},
   "outputs": [
    {
     "data": {
      "text/plain": [
       "6.58273397199706"
      ]
     },
     "execution_count": 19,
     "metadata": {},
     "output_type": "execute_result"
    }
   ],
   "source": [
    "slr_delivery.intercept_"
   ]
  },
  {
   "cell_type": "code",
   "execution_count": 20,
   "id": "876340c2",
   "metadata": {},
   "outputs": [
    {
     "data": {
      "text/plain": [
       "array([1.6490199])"
      ]
     },
     "execution_count": 20,
     "metadata": {},
     "output_type": "execute_result"
    }
   ],
   "source": [
    "slr_delivery.coef_"
   ]
  },
  {
   "cell_type": "markdown",
   "id": "4207eef5",
   "metadata": {},
   "source": [
    "### RSquared value using SKLEARN"
   ]
  },
  {
   "cell_type": "code",
   "execution_count": 21,
   "id": "27be6ca9",
   "metadata": {},
   "outputs": [
    {
     "data": {
      "text/plain": [
       "0.6822714748417231"
      ]
     },
     "execution_count": 21,
     "metadata": {},
     "output_type": "execute_result"
    }
   ],
   "source": [
    "slr_delivery.score(pd.DataFrame(time_df['SortingTime']),time_df['DeliveryTime'])"
   ]
  },
  {
   "cell_type": "markdown",
   "id": "987b7cec",
   "metadata": {},
   "source": [
    "### Model Prediction with formula"
   ]
  },
  {
   "cell_type": "code",
   "execution_count": 22,
   "id": "4d593059",
   "metadata": {},
   "outputs": [
    {
     "data": {
      "text/plain": [
       "24.72195283714075"
      ]
     },
     "execution_count": 22,
     "metadata": {},
     "output_type": "execute_result"
    }
   ],
   "source": [
    "Delivery_Time=model.params[0]+model.params[1]*11\n",
    "Delivery_Time"
   ]
  },
  {
   "cell_type": "markdown",
   "id": "1b387848",
   "metadata": {},
   "source": [
    "### Model Prediction without formula"
   ]
  },
  {
   "cell_type": "code",
   "execution_count": 23,
   "id": "cfcf18c1",
   "metadata": {},
   "outputs": [],
   "source": [
    "Test_Sorting_Time=pd.DataFrame([5,11,10],columns=[\"SortingTime\"])"
   ]
  },
  {
   "cell_type": "code",
   "execution_count": 24,
   "id": "fb66e83a",
   "metadata": {},
   "outputs": [],
   "source": [
    "delivery_time=pd.DataFrame({\"DeliveryTime\": model.predict(Test_Sorting_Time)})"
   ]
  },
  {
   "cell_type": "code",
   "execution_count": 25,
   "id": "4a76bb94",
   "metadata": {},
   "outputs": [
    {
     "data": {
      "text/html": [
       "<div>\n",
       "<style scoped>\n",
       "    .dataframe tbody tr th:only-of-type {\n",
       "        vertical-align: middle;\n",
       "    }\n",
       "\n",
       "    .dataframe tbody tr th {\n",
       "        vertical-align: top;\n",
       "    }\n",
       "\n",
       "    .dataframe thead th {\n",
       "        text-align: right;\n",
       "    }\n",
       "</style>\n",
       "<table border=\"1\" class=\"dataframe\">\n",
       "  <thead>\n",
       "    <tr style=\"text-align: right;\">\n",
       "      <th></th>\n",
       "      <th>DeliveryTime</th>\n",
       "    </tr>\n",
       "  </thead>\n",
       "  <tbody>\n",
       "    <tr>\n",
       "      <th>0</th>\n",
       "      <td>14.827833</td>\n",
       "    </tr>\n",
       "    <tr>\n",
       "      <th>1</th>\n",
       "      <td>24.721953</td>\n",
       "    </tr>\n",
       "    <tr>\n",
       "      <th>2</th>\n",
       "      <td>23.072933</td>\n",
       "    </tr>\n",
       "  </tbody>\n",
       "</table>\n",
       "</div>"
      ],
      "text/plain": [
       "   DeliveryTime\n",
       "0     14.827833\n",
       "1     24.721953\n",
       "2     23.072933"
      ]
     },
     "execution_count": 25,
     "metadata": {},
     "output_type": "execute_result"
    }
   ],
   "source": [
    "delivery_time"
   ]
  },
  {
   "cell_type": "code",
   "execution_count": 26,
   "id": "5a5d8363",
   "metadata": {},
   "outputs": [
    {
     "data": {
      "image/png": "[encoded data removed]",
      "text/plain": [
       "<Figure size 432x288 with 1 Axes>"
      ]
     },
     "metadata": {
      "needs_background": "light"
     },
     "output_type": "display_data"
    }
   ],
   "source": [
    "sns.regplot(data=time_df,x='SortingTime',y='DeliveryTime');"
   ]
  },
  {
   "cell_type": "markdown",
   "id": "8c08190a",
   "metadata": {},
   "source": [
    "#### Since p value is less than 0.05 this model is significant and it is able to explain 68.22% of the variation in the target variable value that is delivery time."
   ]
  },
  {
   "cell_type": "markdown",
   "id": "e9e6e6cd",
   "metadata": {},
   "source": [
    "## Simple Linear Regression- Predicting DeliveryTime-Transformed Data (Log)"
   ]
  },
  {
   "cell_type": "code",
   "execution_count": 27,
   "id": "e66ce0cc",
   "metadata": {},
   "outputs": [],
   "source": [
    "import pandas as pd \n",
    "import numpy as np\n",
    "import matplotlib.pyplot as plt \n",
    "import seaborn as sns"
   ]
  },
  {
   "cell_type": "code",
   "execution_count": 28,
   "id": "02dee0ff",
   "metadata": {},
   "outputs": [],
   "source": [
    "time_df=pd.read_csv(\"delivery_time.csv\")"
   ]
  },
  {
   "cell_type": "code",
   "execution_count": 29,
   "id": "f2469f53",
   "metadata": {},
   "outputs": [
    {
     "data": {
      "text/html": [
       "<div>\n",
       "<style scoped>\n",
       "    .dataframe tbody tr th:only-of-type {\n",
       "        vertical-align: middle;\n",
       "    }\n",
       "\n",
       "    .dataframe tbody tr th {\n",
       "        vertical-align: top;\n",
       "    }\n",
       "\n",
       "    .dataframe thead th {\n",
       "        text-align: right;\n",
       "    }\n",
       "</style>\n",
       "<table border=\"1\" class=\"dataframe\">\n",
       "  <thead>\n",
       "    <tr style=\"text-align: right;\">\n",
       "      <th></th>\n",
       "      <th>Delivery Time</th>\n",
       "      <th>Sorting Time</th>\n",
       "    </tr>\n",
       "  </thead>\n",
       "  <tbody>\n",
       "    <tr>\n",
       "      <th>0</th>\n",
       "      <td>21.00</td>\n",
       "      <td>10</td>\n",
       "    </tr>\n",
       "    <tr>\n",
       "      <th>1</th>\n",
       "      <td>13.50</td>\n",
       "      <td>4</td>\n",
       "    </tr>\n",
       "    <tr>\n",
       "      <th>2</th>\n",
       "      <td>19.75</td>\n",
       "      <td>6</td>\n",
       "    </tr>\n",
       "    <tr>\n",
       "      <th>3</th>\n",
       "      <td>24.00</td>\n",
       "      <td>9</td>\n",
       "    </tr>\n",
       "    <tr>\n",
       "      <th>4</th>\n",
       "      <td>29.00</td>\n",
       "      <td>10</td>\n",
       "    </tr>\n",
       "  </tbody>\n",
       "</table>\n",
       "</div>"
      ],
      "text/plain": [
       "   Delivery Time  Sorting Time\n",
       "0          21.00            10\n",
       "1          13.50             4\n",
       "2          19.75             6\n",
       "3          24.00             9\n",
       "4          29.00            10"
      ]
     },
     "execution_count": 29,
     "metadata": {},
     "output_type": "execute_result"
    }
   ],
   "source": [
    "time_df.head()"
   ]
  },
  {
   "cell_type": "code",
   "execution_count": 30,
   "id": "e525cabc",
   "metadata": {},
   "outputs": [],
   "source": [
    "time_df[\"Log_Of_Sorting_Time\"]=np.log(time_df[\"Sorting Time\"])"
   ]
  },
  {
   "cell_type": "code",
   "execution_count": 31,
   "id": "55d15200",
   "metadata": {},
   "outputs": [
    {
     "data": {
      "text/html": [
       "<div>\n",
       "<style scoped>\n",
       "    .dataframe tbody tr th:only-of-type {\n",
       "        vertical-align: middle;\n",
       "    }\n",
       "\n",
       "    .dataframe tbody tr th {\n",
       "        vertical-align: top;\n",
       "    }\n",
       "\n",
       "    .dataframe thead th {\n",
       "        text-align: right;\n",
       "    }\n",
       "</style>\n",
       "<table border=\"1\" class=\"dataframe\">\n",
       "  <thead>\n",
       "    <tr style=\"text-align: right;\">\n",
       "      <th></th>\n",
       "      <th>Delivery Time</th>\n",
       "      <th>Sorting Time</th>\n",
       "      <th>Log_Of_Sorting_Time</th>\n",
       "    </tr>\n",
       "  </thead>\n",
       "  <tbody>\n",
       "    <tr>\n",
       "      <th>0</th>\n",
       "      <td>21.00</td>\n",
       "      <td>10</td>\n",
       "      <td>2.302585</td>\n",
       "    </tr>\n",
       "    <tr>\n",
       "      <th>1</th>\n",
       "      <td>13.50</td>\n",
       "      <td>4</td>\n",
       "      <td>1.386294</td>\n",
       "    </tr>\n",
       "    <tr>\n",
       "      <th>2</th>\n",
       "      <td>19.75</td>\n",
       "      <td>6</td>\n",
       "      <td>1.791759</td>\n",
       "    </tr>\n",
       "    <tr>\n",
       "      <th>3</th>\n",
       "      <td>24.00</td>\n",
       "      <td>9</td>\n",
       "      <td>2.197225</td>\n",
       "    </tr>\n",
       "    <tr>\n",
       "      <th>4</th>\n",
       "      <td>29.00</td>\n",
       "      <td>10</td>\n",
       "      <td>2.302585</td>\n",
       "    </tr>\n",
       "  </tbody>\n",
       "</table>\n",
       "</div>"
      ],
      "text/plain": [
       "   Delivery Time  Sorting Time  Log_Of_Sorting_Time\n",
       "0          21.00            10             2.302585\n",
       "1          13.50             4             1.386294\n",
       "2          19.75             6             1.791759\n",
       "3          24.00             9             2.197225\n",
       "4          29.00            10             2.302585"
      ]
     },
     "execution_count": 31,
     "metadata": {},
     "output_type": "execute_result"
    }
   ],
   "source": [
    "time_df.head()"
   ]
  },
  {
   "cell_type": "markdown",
   "id": "4c151da9",
   "metadata": {},
   "source": [
    "### Model Building using Statsmodels"
   ]
  },
  {
   "cell_type": "code",
   "execution_count": 32,
   "id": "1c5a5a21",
   "metadata": {},
   "outputs": [
    {
     "name": "stdout",
     "output_type": "stream",
     "text": [
      "                            OLS Regression Results                            \n",
      "==============================================================================\n",
      "Dep. Variable:           DeliveryTime   R-squared:                       0.695\n",
      "Model:                            OLS   Adj. R-squared:                  0.679\n",
      "Method:                 Least Squares   F-statistic:                     43.39\n",
      "Date:                Mon, 06 Mar 2023   Prob (F-statistic):           2.64e-06\n",
      "Time:                        11:12:54   Log-Likelihood:                -50.912\n",
      "No. Observations:                  21   AIC:                             105.8\n",
      "Df Residuals:                      19   BIC:                             107.9\n",
      "Df Model:                           1                                         \n",
      "Covariance Type:            nonrobust                                         \n",
      "====================================================================================\n",
      "                       coef    std err          t      P>|t|      [0.025      0.975]\n",
      "------------------------------------------------------------------------------------\n",
      "Intercept            1.1597      2.455      0.472      0.642      -3.978       6.297\n",
      "LogOfSortingTime     9.0434      1.373      6.587      0.000       6.170      11.917\n",
      "==============================================================================\n",
      "Omnibus:                        5.552   Durbin-Watson:                   1.427\n",
      "Prob(Omnibus):                  0.062   Jarque-Bera (JB):                3.481\n",
      "Skew:                           0.946   Prob(JB):                        0.175\n",
      "Kurtosis:                       3.628   Cond. No.                         9.08\n",
      "==============================================================================\n",
      "\n",
      "Notes:\n",
      "[1] Standard Errors assume that the covariance matrix of the errors is correctly specified.\n"
     ]
    }
   ],
   "source": [
    "from statsmodels.formula.api import ols\n",
    "time_df=time_df.rename({\"Log_Of_Sorting_Time\":\"LogOfSortingTime\",\"Delivery Time\":\"DeliveryTime\"},axis=1)\n",
    "model=ols(formula='DeliveryTime ~ LogOfSortingTime',data=time_df).fit()\n",
    "print(model.summary())"
   ]
  },
  {
   "cell_type": "code",
   "execution_count": 33,
   "id": "a1a41022",
   "metadata": {},
   "outputs": [
    {
     "data": {
      "text/plain": [
       "Intercept           1.159684\n",
       "LogOfSortingTime    9.043413\n",
       "dtype: float64"
      ]
     },
     "execution_count": 33,
     "metadata": {},
     "output_type": "execute_result"
    }
   ],
   "source": [
    "model.params"
   ]
  },
  {
   "cell_type": "code",
   "execution_count": 34,
   "id": "2778ad9c",
   "metadata": {},
   "outputs": [
    {
     "data": {
      "text/plain": [
       "Intercept           0.641980\n",
       "LogOfSortingTime    0.000003\n",
       "dtype: float64"
      ]
     },
     "execution_count": 34,
     "metadata": {},
     "output_type": "execute_result"
    }
   ],
   "source": [
    "model.pvalues"
   ]
  },
  {
   "cell_type": "code",
   "execution_count": 35,
   "id": "68ebd916",
   "metadata": {},
   "outputs": [
    {
     "data": {
      "text/plain": [
       "0.6954434611324223"
      ]
     },
     "execution_count": 35,
     "metadata": {},
     "output_type": "execute_result"
    }
   ],
   "source": [
    "model.rsquared"
   ]
  },
  {
   "cell_type": "markdown",
   "id": "acd5851c",
   "metadata": {},
   "source": [
    "### Model Building using SKLEARN"
   ]
  },
  {
   "cell_type": "code",
   "execution_count": 36,
   "id": "a02fb563",
   "metadata": {},
   "outputs": [
    {
     "data": {
      "text/plain": [
       "LinearRegression()"
      ]
     },
     "execution_count": 36,
     "metadata": {},
     "output_type": "execute_result"
    }
   ],
   "source": [
    "from sklearn.linear_model import LinearRegression\n",
    "\n",
    "slr_delivery=LinearRegression()\n",
    "\n",
    "slr_delivery.fit(pd.DataFrame(time_df['LogOfSortingTime']),time_df['DeliveryTime'])"
   ]
  },
  {
   "cell_type": "code",
   "execution_count": 37,
   "id": "d901cbcd",
   "metadata": {},
   "outputs": [
    {
     "data": {
      "text/plain": [
       "1.1596835115465645"
      ]
     },
     "execution_count": 37,
     "metadata": {},
     "output_type": "execute_result"
    }
   ],
   "source": [
    "slr_delivery.intercept_"
   ]
  },
  {
   "cell_type": "code",
   "execution_count": 38,
   "id": "0dec5bd7",
   "metadata": {},
   "outputs": [
    {
     "data": {
      "text/plain": [
       "array([9.04341346])"
      ]
     },
     "execution_count": 38,
     "metadata": {},
     "output_type": "execute_result"
    }
   ],
   "source": [
    "slr_delivery.coef_"
   ]
  },
  {
   "cell_type": "markdown",
   "id": "613fbc3c",
   "metadata": {},
   "source": [
    "### RSquared value using SKLEARN"
   ]
  },
  {
   "cell_type": "code",
   "execution_count": 39,
   "id": "fed65a91",
   "metadata": {},
   "outputs": [
    {
     "data": {
      "text/plain": [
       "0.6954434611324223"
      ]
     },
     "execution_count": 39,
     "metadata": {},
     "output_type": "execute_result"
    }
   ],
   "source": [
    "slr_delivery.score(pd.DataFrame(time_df['LogOfSortingTime']),time_df['DeliveryTime'])"
   ]
  },
  {
   "cell_type": "markdown",
   "id": "9ce7fa3a",
   "metadata": {},
   "source": [
    "### Model Prediction with formula"
   ]
  },
  {
   "cell_type": "code",
   "execution_count": 40,
   "id": "62f9b54c",
   "metadata": {},
   "outputs": [
    {
     "data": {
      "text/plain": [
       "100.63723155180996"
      ]
     },
     "execution_count": 40,
     "metadata": {},
     "output_type": "execute_result"
    }
   ],
   "source": [
    "Delivery_Time=model.params[0]+model.params[1]*11\n",
    "Delivery_Time"
   ]
  },
  {
   "cell_type": "markdown",
   "id": "dd0cd400",
   "metadata": {},
   "source": [
    "### Model Prediction without formula"
   ]
  },
  {
   "cell_type": "code",
   "execution_count": 41,
   "id": "1a250be6",
   "metadata": {},
   "outputs": [],
   "source": [
    "Test_Sorting_Time=pd.DataFrame([5,11,10],columns=[\"LogOfSortingTime\"])"
   ]
  },
  {
   "cell_type": "code",
   "execution_count": 42,
   "id": "01abda53",
   "metadata": {},
   "outputs": [],
   "source": [
    "delivery_time=pd.DataFrame({\"DeliveryTime\": model.predict(Test_Sorting_Time)})"
   ]
  },
  {
   "cell_type": "code",
   "execution_count": 43,
   "id": "0de719d2",
   "metadata": {},
   "outputs": [
    {
     "data": {
      "text/html": [
       "<div>\n",
       "<style scoped>\n",
       "    .dataframe tbody tr th:only-of-type {\n",
       "        vertical-align: middle;\n",
       "    }\n",
       "\n",
       "    .dataframe tbody tr th {\n",
       "        vertical-align: top;\n",
       "    }\n",
       "\n",
       "    .dataframe thead th {\n",
       "        text-align: right;\n",
       "    }\n",
       "</style>\n",
       "<table border=\"1\" class=\"dataframe\">\n",
       "  <thead>\n",
       "    <tr style=\"text-align: right;\">\n",
       "      <th></th>\n",
       "      <th>DeliveryTime</th>\n",
       "    </tr>\n",
       "  </thead>\n",
       "  <tbody>\n",
       "    <tr>\n",
       "      <th>0</th>\n",
       "      <td>46.376751</td>\n",
       "    </tr>\n",
       "    <tr>\n",
       "      <th>1</th>\n",
       "      <td>100.637232</td>\n",
       "    </tr>\n",
       "    <tr>\n",
       "      <th>2</th>\n",
       "      <td>91.593818</td>\n",
       "    </tr>\n",
       "  </tbody>\n",
       "</table>\n",
       "</div>"
      ],
      "text/plain": [
       "   DeliveryTime\n",
       "0     46.376751\n",
       "1    100.637232\n",
       "2     91.593818"
      ]
     },
     "execution_count": 43,
     "metadata": {},
     "output_type": "execute_result"
    }
   ],
   "source": [
    "delivery_time"
   ]
  },
  {
   "cell_type": "code",
   "execution_count": 44,
   "id": "dff4a1f8",
   "metadata": {},
   "outputs": [
    {
     "data": {
      "image/png": "[encoded data removed]",
      "text/plain": [
       "<Figure size 432x288 with 1 Axes>"
      ]
     },
     "metadata": {
      "needs_background": "light"
     },
     "output_type": "display_data"
    }
   ],
   "source": [
    "sns.regplot(data=time_df,x='LogOfSortingTime',y='DeliveryTime');"
   ]
  },
  {
   "cell_type": "markdown",
   "id": "0a4d6d86",
   "metadata": {},
   "source": [
    "#### Since p value is less than 0.05 this model is significant and it is able to explain 69.54% of the variation in the target variable value that is delivery time."
   ]
  },
  {
   "cell_type": "markdown",
   "id": "3e8e4c92",
   "metadata": {},
   "source": [
    "## Simple Linear Regression- Predicting DeliveryTime-Transformed Data (Squared)"
   ]
  },
  {
   "cell_type": "code",
   "execution_count": 45,
   "id": "de7c707b",
   "metadata": {},
   "outputs": [],
   "source": [
    "import pandas as pd \n",
    "import numpy as np\n",
    "import matplotlib.pyplot as plt \n",
    "import seaborn as sns"
   ]
  },
  {
   "cell_type": "code",
   "execution_count": 46,
   "id": "80371c67",
   "metadata": {},
   "outputs": [],
   "source": [
    "time_df=pd.read_csv(\"delivery_time.csv\")"
   ]
  },
  {
   "cell_type": "code",
   "execution_count": 47,
   "id": "b966c808",
   "metadata": {},
   "outputs": [
    {
     "data": {
      "text/html": [
       "<div>\n",
       "<style scoped>\n",
       "    .dataframe tbody tr th:only-of-type {\n",
       "        vertical-align: middle;\n",
       "    }\n",
       "\n",
       "    .dataframe tbody tr th {\n",
       "        vertical-align: top;\n",
       "    }\n",
       "\n",
       "    .dataframe thead th {\n",
       "        text-align: right;\n",
       "    }\n",
       "</style>\n",
       "<table border=\"1\" class=\"dataframe\">\n",
       "  <thead>\n",
       "    <tr style=\"text-align: right;\">\n",
       "      <th></th>\n",
       "      <th>Delivery Time</th>\n",
       "      <th>Sorting Time</th>\n",
       "    </tr>\n",
       "  </thead>\n",
       "  <tbody>\n",
       "    <tr>\n",
       "      <th>0</th>\n",
       "      <td>21.00</td>\n",
       "      <td>10</td>\n",
       "    </tr>\n",
       "    <tr>\n",
       "      <th>1</th>\n",
       "      <td>13.50</td>\n",
       "      <td>4</td>\n",
       "    </tr>\n",
       "    <tr>\n",
       "      <th>2</th>\n",
       "      <td>19.75</td>\n",
       "      <td>6</td>\n",
       "    </tr>\n",
       "    <tr>\n",
       "      <th>3</th>\n",
       "      <td>24.00</td>\n",
       "      <td>9</td>\n",
       "    </tr>\n",
       "    <tr>\n",
       "      <th>4</th>\n",
       "      <td>29.00</td>\n",
       "      <td>10</td>\n",
       "    </tr>\n",
       "  </tbody>\n",
       "</table>\n",
       "</div>"
      ],
      "text/plain": [
       "   Delivery Time  Sorting Time\n",
       "0          21.00            10\n",
       "1          13.50             4\n",
       "2          19.75             6\n",
       "3          24.00             9\n",
       "4          29.00            10"
      ]
     },
     "execution_count": 47,
     "metadata": {},
     "output_type": "execute_result"
    }
   ],
   "source": [
    "time_df.head()"
   ]
  },
  {
   "cell_type": "code",
   "execution_count": 48,
   "id": "6a4c9783",
   "metadata": {},
   "outputs": [],
   "source": [
    "time_df[\"Squared_Of_Sorting_Time\"]=np.square(time_df[\"Sorting Time\"])"
   ]
  },
  {
   "cell_type": "code",
   "execution_count": 49,
   "id": "f1c190db",
   "metadata": {},
   "outputs": [
    {
     "data": {
      "text/html": [
       "<div>\n",
       "<style scoped>\n",
       "    .dataframe tbody tr th:only-of-type {\n",
       "        vertical-align: middle;\n",
       "    }\n",
       "\n",
       "    .dataframe tbody tr th {\n",
       "        vertical-align: top;\n",
       "    }\n",
       "\n",
       "    .dataframe thead th {\n",
       "        text-align: right;\n",
       "    }\n",
       "</style>\n",
       "<table border=\"1\" class=\"dataframe\">\n",
       "  <thead>\n",
       "    <tr style=\"text-align: right;\">\n",
       "      <th></th>\n",
       "      <th>Delivery Time</th>\n",
       "      <th>Sorting Time</th>\n",
       "      <th>Squared_Of_Sorting_Time</th>\n",
       "    </tr>\n",
       "  </thead>\n",
       "  <tbody>\n",
       "    <tr>\n",
       "      <th>0</th>\n",
       "      <td>21.00</td>\n",
       "      <td>10</td>\n",
       "      <td>100</td>\n",
       "    </tr>\n",
       "    <tr>\n",
       "      <th>1</th>\n",
       "      <td>13.50</td>\n",
       "      <td>4</td>\n",
       "      <td>16</td>\n",
       "    </tr>\n",
       "    <tr>\n",
       "      <th>2</th>\n",
       "      <td>19.75</td>\n",
       "      <td>6</td>\n",
       "      <td>36</td>\n",
       "    </tr>\n",
       "    <tr>\n",
       "      <th>3</th>\n",
       "      <td>24.00</td>\n",
       "      <td>9</td>\n",
       "      <td>81</td>\n",
       "    </tr>\n",
       "    <tr>\n",
       "      <th>4</th>\n",
       "      <td>29.00</td>\n",
       "      <td>10</td>\n",
       "      <td>100</td>\n",
       "    </tr>\n",
       "  </tbody>\n",
       "</table>\n",
       "</div>"
      ],
      "text/plain": [
       "   Delivery Time  Sorting Time  Squared_Of_Sorting_Time\n",
       "0          21.00            10                      100\n",
       "1          13.50             4                       16\n",
       "2          19.75             6                       36\n",
       "3          24.00             9                       81\n",
       "4          29.00            10                      100"
      ]
     },
     "execution_count": 49,
     "metadata": {},
     "output_type": "execute_result"
    }
   ],
   "source": [
    "time_df.head()"
   ]
  },
  {
   "cell_type": "markdown",
   "id": "7482dc7f",
   "metadata": {},
   "source": [
    "### Model Building using Statsmodels"
   ]
  },
  {
   "cell_type": "code",
   "execution_count": 50,
   "id": "e329cd33",
   "metadata": {},
   "outputs": [
    {
     "name": "stdout",
     "output_type": "stream",
     "text": [
      "                            OLS Regression Results                            \n",
      "==============================================================================\n",
      "Dep. Variable:           DeliveryTime   R-squared:                       0.630\n",
      "Model:                            OLS   Adj. R-squared:                  0.611\n",
      "Method:                 Least Squares   F-statistic:                     32.39\n",
      "Date:                Mon, 06 Mar 2023   Prob (F-statistic):           1.74e-05\n",
      "Time:                        11:12:55   Log-Likelihood:                -52.948\n",
      "No. Observations:                  21   AIC:                             109.9\n",
      "Df Residuals:                      19   BIC:                             112.0\n",
      "Df Model:                           1                                         \n",
      "Covariance Type:            nonrobust                                         \n",
      "========================================================================================\n",
      "                           coef    std err          t      P>|t|      [0.025      0.975]\n",
      "----------------------------------------------------------------------------------------\n",
      "Intercept               11.2372      1.196      9.399      0.000       8.735      13.740\n",
      "SquaredOfSortingTime     0.1249      0.022      5.691      0.000       0.079       0.171\n",
      "==============================================================================\n",
      "Omnibus:                        1.531   Durbin-Watson:                   1.248\n",
      "Prob(Omnibus):                  0.465   Jarque-Bera (JB):                0.772\n",
      "Skew:                           0.469   Prob(JB):                        0.680\n",
      "Kurtosis:                       3.050   Cond. No.                         94.3\n",
      "==============================================================================\n",
      "\n",
      "Notes:\n",
      "[1] Standard Errors assume that the covariance matrix of the errors is correctly specified.\n"
     ]
    }
   ],
   "source": [
    "from statsmodels.formula.api import ols\n",
    "time_df=time_df.rename({\"Squared_Of_Sorting_Time\":\"SquaredOfSortingTime\",\"Delivery Time\":\"DeliveryTime\"},axis=1)\n",
    "model=ols(formula='DeliveryTime ~ SquaredOfSortingTime',data=time_df).fit()\n",
    "print(model.summary())"
   ]
  },
  {
   "cell_type": "code",
   "execution_count": 51,
   "id": "75f2b706",
   "metadata": {},
   "outputs": [
    {
     "data": {
      "text/plain": [
       "Intercept               11.237205\n",
       "SquaredOfSortingTime     0.124870\n",
       "dtype: float64"
      ]
     },
     "execution_count": 51,
     "metadata": {},
     "output_type": "execute_result"
    }
   ],
   "source": [
    "model.params"
   ]
  },
  {
   "cell_type": "code",
   "execution_count": 52,
   "id": "46aacf9e",
   "metadata": {},
   "outputs": [
    {
     "data": {
      "text/plain": [
       "Intercept               1.415704e-08\n",
       "SquaredOfSortingTime    1.739194e-05\n",
       "dtype: float64"
      ]
     },
     "execution_count": 52,
     "metadata": {},
     "output_type": "execute_result"
    }
   ],
   "source": [
    "model.pvalues"
   ]
  },
  {
   "cell_type": "code",
   "execution_count": 53,
   "id": "c5b94bd2",
   "metadata": {},
   "outputs": [
    {
     "data": {
      "text/plain": [
       "0.6302871815826637"
      ]
     },
     "execution_count": 53,
     "metadata": {},
     "output_type": "execute_result"
    }
   ],
   "source": [
    "model.rsquared"
   ]
  },
  {
   "cell_type": "markdown",
   "id": "9f17a5a1",
   "metadata": {},
   "source": [
    "### Model Building using SKLEARN"
   ]
  },
  {
   "cell_type": "code",
   "execution_count": 54,
   "id": "0f3739e1",
   "metadata": {},
   "outputs": [
    {
     "data": {
      "text/plain": [
       "LinearRegression()"
      ]
     },
     "execution_count": 54,
     "metadata": {},
     "output_type": "execute_result"
    }
   ],
   "source": [
    "from sklearn.linear_model import LinearRegression\n",
    "\n",
    "slr_delivery=LinearRegression()\n",
    "\n",
    "slr_delivery.fit(pd.DataFrame(time_df['SquaredOfSortingTime']),time_df['DeliveryTime'])"
   ]
  },
  {
   "cell_type": "code",
   "execution_count": 55,
   "id": "046044d4",
   "metadata": {},
   "outputs": [
    {
     "data": {
      "text/plain": [
       "11.237205188841067"
      ]
     },
     "execution_count": 55,
     "metadata": {},
     "output_type": "execute_result"
    }
   ],
   "source": [
    "slr_delivery.intercept_"
   ]
  },
  {
   "cell_type": "code",
   "execution_count": 56,
   "id": "259cf0c5",
   "metadata": {},
   "outputs": [
    {
     "data": {
      "text/plain": [
       "array([0.12487012])"
      ]
     },
     "execution_count": 56,
     "metadata": {},
     "output_type": "execute_result"
    }
   ],
   "source": [
    "slr_delivery.coef_"
   ]
  },
  {
   "cell_type": "markdown",
   "id": "4845d9b6",
   "metadata": {},
   "source": [
    "### RSquared value using SKLEARN"
   ]
  },
  {
   "cell_type": "code",
   "execution_count": 57,
   "id": "626c2820",
   "metadata": {},
   "outputs": [
    {
     "data": {
      "text/plain": [
       "0.6302871815826638"
      ]
     },
     "execution_count": 57,
     "metadata": {},
     "output_type": "execute_result"
    }
   ],
   "source": [
    "slr_delivery.score(pd.DataFrame(time_df['SquaredOfSortingTime']),time_df['DeliveryTime'])"
   ]
  },
  {
   "cell_type": "markdown",
   "id": "f3dfdc88",
   "metadata": {},
   "source": [
    "### Model Prediction with formula"
   ]
  },
  {
   "cell_type": "code",
   "execution_count": 58,
   "id": "cd960413",
   "metadata": {},
   "outputs": [
    {
     "data": {
      "text/plain": [
       "12.610776496525979"
      ]
     },
     "execution_count": 58,
     "metadata": {},
     "output_type": "execute_result"
    }
   ],
   "source": [
    "Delivery_Time=model.params[0]+model.params[1]*11\n",
    "Delivery_Time"
   ]
  },
  {
   "cell_type": "markdown",
   "id": "5ee69b71",
   "metadata": {},
   "source": [
    "### Model Prediction without formula"
   ]
  },
  {
   "cell_type": "code",
   "execution_count": 59,
   "id": "5735abad",
   "metadata": {},
   "outputs": [
    {
     "data": {
      "text/html": [
       "<div>\n",
       "<style scoped>\n",
       "    .dataframe tbody tr th:only-of-type {\n",
       "        vertical-align: middle;\n",
       "    }\n",
       "\n",
       "    .dataframe tbody tr th {\n",
       "        vertical-align: top;\n",
       "    }\n",
       "\n",
       "    .dataframe thead th {\n",
       "        text-align: right;\n",
       "    }\n",
       "</style>\n",
       "<table border=\"1\" class=\"dataframe\">\n",
       "  <thead>\n",
       "    <tr style=\"text-align: right;\">\n",
       "      <th></th>\n",
       "      <th>DeliveryTime</th>\n",
       "    </tr>\n",
       "  </thead>\n",
       "  <tbody>\n",
       "    <tr>\n",
       "      <th>0</th>\n",
       "      <td>11.861556</td>\n",
       "    </tr>\n",
       "    <tr>\n",
       "      <th>1</th>\n",
       "      <td>12.610776</td>\n",
       "    </tr>\n",
       "    <tr>\n",
       "      <th>2</th>\n",
       "      <td>12.485906</td>\n",
       "    </tr>\n",
       "  </tbody>\n",
       "</table>\n",
       "</div>"
      ],
      "text/plain": [
       "   DeliveryTime\n",
       "0     11.861556\n",
       "1     12.610776\n",
       "2     12.485906"
      ]
     },
     "execution_count": 59,
     "metadata": {},
     "output_type": "execute_result"
    }
   ],
   "source": [
    "Test_Sorting_Time=pd.DataFrame([5,11,10],columns=[\"SquaredOfSortingTime\"])\n",
    "\n",
    "delivery_time=pd.DataFrame({\"DeliveryTime\": model.predict(Test_Sorting_Time)})\n",
    "\n",
    "delivery_time"
   ]
  },
  {
   "cell_type": "code",
   "execution_count": 60,
   "id": "a71b9878",
   "metadata": {},
   "outputs": [
    {
     "data": {
      "image/png": "[encoded data removed]",
      "text/plain": [
       "<Figure size 432x288 with 1 Axes>"
      ]
     },
     "metadata": {
      "needs_background": "light"
     },
     "output_type": "display_data"
    }
   ],
   "source": [
    "sns.regplot(data=time_df,x='SquaredOfSortingTime',y='DeliveryTime');"
   ]
  },
  {
   "cell_type": "markdown",
   "id": "fefbbb9e",
   "metadata": {},
   "source": [
    "#### Since p value is less than 0.05 this model is significant and it is able to explain 63.02% of the variation in the target variable value that is delivery time."
   ]
  },
  {
   "cell_type": "markdown",
   "id": "407a5080",
   "metadata": {},
   "source": [
    "## Simple Linear Regression- Predicting DeliveryTime-Transformed Data (SquareRoot)"
   ]
  },
  {
   "cell_type": "code",
   "execution_count": 61,
   "id": "4512158d",
   "metadata": {},
   "outputs": [],
   "source": [
    "import pandas as pd \n",
    "import numpy as np\n",
    "import matplotlib.pyplot as plt \n",
    "import seaborn as sns"
   ]
  },
  {
   "cell_type": "code",
   "execution_count": 62,
   "id": "aa1c4cf2",
   "metadata": {},
   "outputs": [
    {
     "data": {
      "text/html": [
       "<div>\n",
       "<style scoped>\n",
       "    .dataframe tbody tr th:only-of-type {\n",
       "        vertical-align: middle;\n",
       "    }\n",
       "\n",
       "    .dataframe tbody tr th {\n",
       "        vertical-align: top;\n",
       "    }\n",
       "\n",
       "    .dataframe thead th {\n",
       "        text-align: right;\n",
       "    }\n",
       "</style>\n",
       "<table border=\"1\" class=\"dataframe\">\n",
       "  <thead>\n",
       "    <tr style=\"text-align: right;\">\n",
       "      <th></th>\n",
       "      <th>Delivery Time</th>\n",
       "      <th>Sorting Time</th>\n",
       "    </tr>\n",
       "  </thead>\n",
       "  <tbody>\n",
       "    <tr>\n",
       "      <th>0</th>\n",
       "      <td>21.00</td>\n",
       "      <td>10</td>\n",
       "    </tr>\n",
       "    <tr>\n",
       "      <th>1</th>\n",
       "      <td>13.50</td>\n",
       "      <td>4</td>\n",
       "    </tr>\n",
       "    <tr>\n",
       "      <th>2</th>\n",
       "      <td>19.75</td>\n",
       "      <td>6</td>\n",
       "    </tr>\n",
       "    <tr>\n",
       "      <th>3</th>\n",
       "      <td>24.00</td>\n",
       "      <td>9</td>\n",
       "    </tr>\n",
       "    <tr>\n",
       "      <th>4</th>\n",
       "      <td>29.00</td>\n",
       "      <td>10</td>\n",
       "    </tr>\n",
       "  </tbody>\n",
       "</table>\n",
       "</div>"
      ],
      "text/plain": [
       "   Delivery Time  Sorting Time\n",
       "0          21.00            10\n",
       "1          13.50             4\n",
       "2          19.75             6\n",
       "3          24.00             9\n",
       "4          29.00            10"
      ]
     },
     "execution_count": 62,
     "metadata": {},
     "output_type": "execute_result"
    }
   ],
   "source": [
    "time_df=pd.read_csv(\"delivery_time.csv\")\n",
    "\n",
    "time_df.head()"
   ]
  },
  {
   "cell_type": "code",
   "execution_count": 63,
   "id": "fd823d76",
   "metadata": {},
   "outputs": [
    {
     "data": {
      "text/html": [
       "<div>\n",
       "<style scoped>\n",
       "    .dataframe tbody tr th:only-of-type {\n",
       "        vertical-align: middle;\n",
       "    }\n",
       "\n",
       "    .dataframe tbody tr th {\n",
       "        vertical-align: top;\n",
       "    }\n",
       "\n",
       "    .dataframe thead th {\n",
       "        text-align: right;\n",
       "    }\n",
       "</style>\n",
       "<table border=\"1\" class=\"dataframe\">\n",
       "  <thead>\n",
       "    <tr style=\"text-align: right;\">\n",
       "      <th></th>\n",
       "      <th>Delivery Time</th>\n",
       "      <th>Sorting Time</th>\n",
       "      <th>SquareRoot_Of_Sorting_Time</th>\n",
       "    </tr>\n",
       "  </thead>\n",
       "  <tbody>\n",
       "    <tr>\n",
       "      <th>0</th>\n",
       "      <td>21.00</td>\n",
       "      <td>10</td>\n",
       "      <td>3.162278</td>\n",
       "    </tr>\n",
       "    <tr>\n",
       "      <th>1</th>\n",
       "      <td>13.50</td>\n",
       "      <td>4</td>\n",
       "      <td>2.000000</td>\n",
       "    </tr>\n",
       "    <tr>\n",
       "      <th>2</th>\n",
       "      <td>19.75</td>\n",
       "      <td>6</td>\n",
       "      <td>2.449490</td>\n",
       "    </tr>\n",
       "    <tr>\n",
       "      <th>3</th>\n",
       "      <td>24.00</td>\n",
       "      <td>9</td>\n",
       "      <td>3.000000</td>\n",
       "    </tr>\n",
       "    <tr>\n",
       "      <th>4</th>\n",
       "      <td>29.00</td>\n",
       "      <td>10</td>\n",
       "      <td>3.162278</td>\n",
       "    </tr>\n",
       "  </tbody>\n",
       "</table>\n",
       "</div>"
      ],
      "text/plain": [
       "   Delivery Time  Sorting Time  SquareRoot_Of_Sorting_Time\n",
       "0          21.00            10                    3.162278\n",
       "1          13.50             4                    2.000000\n",
       "2          19.75             6                    2.449490\n",
       "3          24.00             9                    3.000000\n",
       "4          29.00            10                    3.162278"
      ]
     },
     "execution_count": 63,
     "metadata": {},
     "output_type": "execute_result"
    }
   ],
   "source": [
    "time_df[\"SquareRoot_Of_Sorting_Time\"]=np.sqrt(time_df[\"Sorting Time\"])\n",
    "\n",
    "time_df.head()"
   ]
  },
  {
   "cell_type": "markdown",
   "id": "874d272f",
   "metadata": {},
   "source": [
    "### Model Building using Statsmodels"
   ]
  },
  {
   "cell_type": "code",
   "execution_count": 64,
   "id": "78d38c2f",
   "metadata": {},
   "outputs": [
    {
     "name": "stdout",
     "output_type": "stream",
     "text": [
      "                            OLS Regression Results                            \n",
      "==============================================================================\n",
      "Dep. Variable:           DeliveryTime   R-squared:                       0.696\n",
      "Model:                            OLS   Adj. R-squared:                  0.680\n",
      "Method:                 Least Squares   F-statistic:                     43.46\n",
      "Date:                Mon, 06 Mar 2023   Prob (F-statistic):           2.61e-06\n",
      "Time:                        11:12:55   Log-Likelihood:                -50.900\n",
      "No. Observations:                  21   AIC:                             105.8\n",
      "Df Residuals:                      19   BIC:                             107.9\n",
      "Df Model:                           1                                         \n",
      "Covariance Type:            nonrobust                                         \n",
      "===========================================================================================\n",
      "                              coef    std err          t      P>|t|      [0.025      0.975]\n",
      "-------------------------------------------------------------------------------------------\n",
      "Intercept                  -2.5188      2.995     -0.841      0.411      -8.788       3.751\n",
      "SquareRootOfSortingTime     7.9366      1.204      6.592      0.000       5.417      10.456\n",
      "==============================================================================\n",
      "Omnibus:                        4.658   Durbin-Watson:                   1.318\n",
      "Prob(Omnibus):                  0.097   Jarque-Bera (JB):                2.824\n",
      "Skew:                           0.865   Prob(JB):                        0.244\n",
      "Kurtosis:                       3.483   Cond. No.                         13.7\n",
      "==============================================================================\n",
      "\n",
      "Notes:\n",
      "[1] Standard Errors assume that the covariance matrix of the errors is correctly specified.\n"
     ]
    }
   ],
   "source": [
    "from statsmodels.formula.api import ols\n",
    "time_df=time_df.rename({\"SquareRoot_Of_Sorting_Time\":\"SquareRootOfSortingTime\",\"Delivery Time\":\"DeliveryTime\"},axis=1)\n",
    "model=ols(formula='DeliveryTime ~ SquareRootOfSortingTime',data=time_df).fit()\n",
    "print(model.summary())"
   ]
  },
  {
   "cell_type": "code",
   "execution_count": 65,
   "id": "95d122d9",
   "metadata": {},
   "outputs": [
    {
     "data": {
      "text/plain": [
       "Intercept                 -2.518837\n",
       "SquareRootOfSortingTime    7.936591\n",
       "dtype: float64"
      ]
     },
     "execution_count": 65,
     "metadata": {},
     "output_type": "execute_result"
    }
   ],
   "source": [
    "model.params"
   ]
  },
  {
   "cell_type": "code",
   "execution_count": 66,
   "id": "5564a8ff",
   "metadata": {},
   "outputs": [
    {
     "data": {
      "text/plain": [
       "Intercept                  0.410857\n",
       "SquareRootOfSortingTime    0.000003\n",
       "dtype: float64"
      ]
     },
     "execution_count": 66,
     "metadata": {},
     "output_type": "execute_result"
    }
   ],
   "source": [
    "model.pvalues"
   ]
  },
  {
   "cell_type": "code",
   "execution_count": 67,
   "id": "9d76f772",
   "metadata": {},
   "outputs": [
    {
     "data": {
      "text/plain": [
       "0.6958062276308671"
      ]
     },
     "execution_count": 67,
     "metadata": {},
     "output_type": "execute_result"
    }
   ],
   "source": [
    "model.rsquared"
   ]
  },
  {
   "cell_type": "markdown",
   "id": "62cf89cf",
   "metadata": {},
   "source": [
    "### Model Building using SKLEARN"
   ]
  },
  {
   "cell_type": "code",
   "execution_count": 68,
   "id": "1c41775d",
   "metadata": {},
   "outputs": [
    {
     "data": {
      "text/plain": [
       "LinearRegression()"
      ]
     },
     "execution_count": 68,
     "metadata": {},
     "output_type": "execute_result"
    }
   ],
   "source": [
    "from sklearn.linear_model import LinearRegression\n",
    "\n",
    "slr_delivery=LinearRegression()\n",
    "\n",
    "slr_delivery.fit(pd.DataFrame(time_df['SquareRootOfSortingTime']),time_df['DeliveryTime'])"
   ]
  },
  {
   "cell_type": "code",
   "execution_count": 69,
   "id": "d2fb3760",
   "metadata": {},
   "outputs": [
    {
     "data": {
      "text/plain": [
       "-2.518836615838879"
      ]
     },
     "execution_count": 69,
     "metadata": {},
     "output_type": "execute_result"
    }
   ],
   "source": [
    "slr_delivery.intercept_"
   ]
  },
  {
   "cell_type": "code",
   "execution_count": 70,
   "id": "c2e7fca0",
   "metadata": {},
   "outputs": [
    {
     "data": {
      "text/plain": [
       "array([7.93659075])"
      ]
     },
     "execution_count": 70,
     "metadata": {},
     "output_type": "execute_result"
    }
   ],
   "source": [
    "slr_delivery.coef_"
   ]
  },
  {
   "cell_type": "markdown",
   "id": "4be26f0d",
   "metadata": {},
   "source": [
    "### RSquared value using SKLEARN"
   ]
  },
  {
   "cell_type": "code",
   "execution_count": 71,
   "id": "68c3e9fe",
   "metadata": {},
   "outputs": [
    {
     "data": {
      "text/plain": [
       "0.695806227630867"
      ]
     },
     "execution_count": 71,
     "metadata": {},
     "output_type": "execute_result"
    }
   ],
   "source": [
    "slr_delivery.score(pd.DataFrame(time_df['SquareRootOfSortingTime']),time_df['DeliveryTime'])"
   ]
  },
  {
   "cell_type": "markdown",
   "id": "ab7acdb0",
   "metadata": {},
   "source": [
    "### Model Prediction with formula"
   ]
  },
  {
   "cell_type": "code",
   "execution_count": 72,
   "id": "9e278038",
   "metadata": {},
   "outputs": [
    {
     "data": {
      "text/plain": [
       "84.78366165706383"
      ]
     },
     "execution_count": 72,
     "metadata": {},
     "output_type": "execute_result"
    }
   ],
   "source": [
    "Delivery_Time=model.params[0]+model.params[1]*11\n",
    "Delivery_Time"
   ]
  },
  {
   "cell_type": "markdown",
   "id": "1d182a03",
   "metadata": {},
   "source": [
    "### Model Prediction without formula"
   ]
  },
  {
   "cell_type": "code",
   "execution_count": 73,
   "id": "cc02ae9a",
   "metadata": {},
   "outputs": [
    {
     "data": {
      "text/html": [
       "<div>\n",
       "<style scoped>\n",
       "    .dataframe tbody tr th:only-of-type {\n",
       "        vertical-align: middle;\n",
       "    }\n",
       "\n",
       "    .dataframe tbody tr th {\n",
       "        vertical-align: top;\n",
       "    }\n",
       "\n",
       "    .dataframe thead th {\n",
       "        text-align: right;\n",
       "    }\n",
       "</style>\n",
       "<table border=\"1\" class=\"dataframe\">\n",
       "  <thead>\n",
       "    <tr style=\"text-align: right;\">\n",
       "      <th></th>\n",
       "      <th>DeliveryTime</th>\n",
       "    </tr>\n",
       "  </thead>\n",
       "  <tbody>\n",
       "    <tr>\n",
       "      <th>0</th>\n",
       "      <td>37.164117</td>\n",
       "    </tr>\n",
       "    <tr>\n",
       "      <th>1</th>\n",
       "      <td>84.783662</td>\n",
       "    </tr>\n",
       "    <tr>\n",
       "      <th>2</th>\n",
       "      <td>76.847071</td>\n",
       "    </tr>\n",
       "  </tbody>\n",
       "</table>\n",
       "</div>"
      ],
      "text/plain": [
       "   DeliveryTime\n",
       "0     37.164117\n",
       "1     84.783662\n",
       "2     76.847071"
      ]
     },
     "execution_count": 73,
     "metadata": {},
     "output_type": "execute_result"
    }
   ],
   "source": [
    "Test_Sorting_Time=pd.DataFrame([5,11,10],columns=[\"SquareRootOfSortingTime\"])\n",
    "\n",
    "delivery_time=pd.DataFrame({\"DeliveryTime\": model.predict(Test_Sorting_Time)})\n",
    "\n",
    "delivery_time"
   ]
  },
  {
   "cell_type": "code",
   "execution_count": 74,
   "id": "58ff4aeb",
   "metadata": {},
   "outputs": [
    {
     "data": {
      "image/png": "[encoded data removed]",
      "text/plain": [
       "<Figure size 432x288 with 1 Axes>"
      ]
     },
     "metadata": {
      "needs_background": "light"
     },
     "output_type": "display_data"
    }
   ],
   "source": [
    "sns.regplot(data=time_df,x='SquareRootOfSortingTime',y='DeliveryTime');"
   ]
  },
  {
   "cell_type": "markdown",
   "id": "e39e04a5",
   "metadata": {},
   "source": [
    "#### Since p value is less than 0.05 this model is significant and it is able to explain 69.58% of the variation in the target variable value that is delivery time."
   ]
  },
  {
   "cell_type": "markdown",
   "id": "3fdb5422",
   "metadata": {},
   "source": [
    "## Simple Linear Regression- Predicting DeliveryTime-Transformed Data (Exponential)"
   ]
  },
  {
   "cell_type": "code",
   "execution_count": 75,
   "id": "c891ebed",
   "metadata": {},
   "outputs": [],
   "source": [
    "import pandas as pd \n",
    "import numpy as np\n",
    "import matplotlib.pyplot as plt \n",
    "import seaborn as sns"
   ]
  },
  {
   "cell_type": "code",
   "execution_count": 76,
   "id": "4146e1ca",
   "metadata": {},
   "outputs": [
    {
     "data": {
      "text/html": [
       "<div>\n",
       "<style scoped>\n",
       "    .dataframe tbody tr th:only-of-type {\n",
       "        vertical-align: middle;\n",
       "    }\n",
       "\n",
       "    .dataframe tbody tr th {\n",
       "        vertical-align: top;\n",
       "    }\n",
       "\n",
       "    .dataframe thead th {\n",
       "        text-align: right;\n",
       "    }\n",
       "</style>\n",
       "<table border=\"1\" class=\"dataframe\">\n",
       "  <thead>\n",
       "    <tr style=\"text-align: right;\">\n",
       "      <th></th>\n",
       "      <th>Delivery Time</th>\n",
       "      <th>Sorting Time</th>\n",
       "    </tr>\n",
       "  </thead>\n",
       "  <tbody>\n",
       "    <tr>\n",
       "      <th>0</th>\n",
       "      <td>21.00</td>\n",
       "      <td>10</td>\n",
       "    </tr>\n",
       "    <tr>\n",
       "      <th>1</th>\n",
       "      <td>13.50</td>\n",
       "      <td>4</td>\n",
       "    </tr>\n",
       "    <tr>\n",
       "      <th>2</th>\n",
       "      <td>19.75</td>\n",
       "      <td>6</td>\n",
       "    </tr>\n",
       "    <tr>\n",
       "      <th>3</th>\n",
       "      <td>24.00</td>\n",
       "      <td>9</td>\n",
       "    </tr>\n",
       "    <tr>\n",
       "      <th>4</th>\n",
       "      <td>29.00</td>\n",
       "      <td>10</td>\n",
       "    </tr>\n",
       "  </tbody>\n",
       "</table>\n",
       "</div>"
      ],
      "text/plain": [
       "   Delivery Time  Sorting Time\n",
       "0          21.00            10\n",
       "1          13.50             4\n",
       "2          19.75             6\n",
       "3          24.00             9\n",
       "4          29.00            10"
      ]
     },
     "execution_count": 76,
     "metadata": {},
     "output_type": "execute_result"
    }
   ],
   "source": [
    "time_df=pd.read_csv(\"delivery_time.csv\")\n",
    "\n",
    "time_df.head()"
   ]
  },
  {
   "cell_type": "code",
   "execution_count": 77,
   "id": "aef7c6eb",
   "metadata": {},
   "outputs": [
    {
     "data": {
      "text/html": [
       "<div>\n",
       "<style scoped>\n",
       "    .dataframe tbody tr th:only-of-type {\n",
       "        vertical-align: middle;\n",
       "    }\n",
       "\n",
       "    .dataframe tbody tr th {\n",
       "        vertical-align: top;\n",
       "    }\n",
       "\n",
       "    .dataframe thead th {\n",
       "        text-align: right;\n",
       "    }\n",
       "</style>\n",
       "<table border=\"1\" class=\"dataframe\">\n",
       "  <thead>\n",
       "    <tr style=\"text-align: right;\">\n",
       "      <th></th>\n",
       "      <th>Delivery Time</th>\n",
       "      <th>Sorting Time</th>\n",
       "      <th>Exponential_Of_Sorting_Time</th>\n",
       "    </tr>\n",
       "  </thead>\n",
       "  <tbody>\n",
       "    <tr>\n",
       "      <th>0</th>\n",
       "      <td>21.00</td>\n",
       "      <td>10</td>\n",
       "      <td>22026.465795</td>\n",
       "    </tr>\n",
       "    <tr>\n",
       "      <th>1</th>\n",
       "      <td>13.50</td>\n",
       "      <td>4</td>\n",
       "      <td>54.598150</td>\n",
       "    </tr>\n",
       "    <tr>\n",
       "      <th>2</th>\n",
       "      <td>19.75</td>\n",
       "      <td>6</td>\n",
       "      <td>403.428793</td>\n",
       "    </tr>\n",
       "    <tr>\n",
       "      <th>3</th>\n",
       "      <td>24.00</td>\n",
       "      <td>9</td>\n",
       "      <td>8103.083928</td>\n",
       "    </tr>\n",
       "    <tr>\n",
       "      <th>4</th>\n",
       "      <td>29.00</td>\n",
       "      <td>10</td>\n",
       "      <td>22026.465795</td>\n",
       "    </tr>\n",
       "  </tbody>\n",
       "</table>\n",
       "</div>"
      ],
      "text/plain": [
       "   Delivery Time  Sorting Time  Exponential_Of_Sorting_Time\n",
       "0          21.00            10                 22026.465795\n",
       "1          13.50             4                    54.598150\n",
       "2          19.75             6                   403.428793\n",
       "3          24.00             9                  8103.083928\n",
       "4          29.00            10                 22026.465795"
      ]
     },
     "execution_count": 77,
     "metadata": {},
     "output_type": "execute_result"
    }
   ],
   "source": [
    "time_df[\"Exponential_Of_Sorting_Time\"]=np.exp(time_df[\"Sorting Time\"])\n",
    "\n",
    "time_df.head()"
   ]
  },
  {
   "cell_type": "markdown",
   "id": "2fb6194e",
   "metadata": {},
   "source": [
    "### Model Building using Statsmodels"
   ]
  },
  {
   "cell_type": "code",
   "execution_count": 78,
   "id": "0510407a",
   "metadata": {},
   "outputs": [
    {
     "name": "stdout",
     "output_type": "stream",
     "text": [
      "                            OLS Regression Results                            \n",
      "==============================================================================\n",
      "Dep. Variable:           DeliveryTime   R-squared:                       0.361\n",
      "Model:                            OLS   Adj. R-squared:                  0.327\n",
      "Method:                 Least Squares   F-statistic:                     10.74\n",
      "Date:                Mon, 06 Mar 2023   Prob (F-statistic):            0.00396\n",
      "Time:                        11:12:55   Log-Likelihood:                -58.691\n",
      "No. Observations:                  21   AIC:                             121.4\n",
      "Df Residuals:                      19   BIC:                             123.5\n",
      "Df Model:                           1                                         \n",
      "Covariance Type:            nonrobust                                         \n",
      "============================================================================================\n",
      "                               coef    std err          t      P>|t|      [0.025      0.975]\n",
      "--------------------------------------------------------------------------------------------\n",
      "Intercept                   15.0836      1.047     14.406      0.000      12.892      17.275\n",
      "ExponentialOfSortingTime     0.0004      0.000      3.277      0.004       0.000       0.001\n",
      "==============================================================================\n",
      "Omnibus:                        2.426   Durbin-Watson:                   1.676\n",
      "Prob(Omnibus):                  0.297   Jarque-Bera (JB):                1.151\n",
      "Skew:                          -0.087   Prob(JB):                        0.562\n",
      "Kurtosis:                       1.866   Cond. No.                     1.01e+04\n",
      "==============================================================================\n",
      "\n",
      "Notes:\n",
      "[1] Standard Errors assume that the covariance matrix of the errors is correctly specified.\n",
      "[2] The condition number is large, 1.01e+04. This might indicate that there are\n",
      "strong multicollinearity or other numerical problems.\n"
     ]
    }
   ],
   "source": [
    "from statsmodels.formula.api import ols\n",
    "time_df=time_df.rename({\"Exponential_Of_Sorting_Time\":\"ExponentialOfSortingTime\",\"Delivery Time\":\"DeliveryTime\"},axis=1)\n",
    "model=ols(formula='DeliveryTime ~ ExponentialOfSortingTime',data=time_df).fit()\n",
    "print(model.summary())"
   ]
  },
  {
   "cell_type": "code",
   "execution_count": 79,
   "id": "869525c0",
   "metadata": {},
   "outputs": [
    {
     "data": {
      "text/plain": [
       "Intercept                   15.083578\n",
       "ExponentialOfSortingTime     0.000393\n",
       "dtype: float64"
      ]
     },
     "execution_count": 79,
     "metadata": {},
     "output_type": "execute_result"
    }
   ],
   "source": [
    "model.params"
   ]
  },
  {
   "cell_type": "code",
   "execution_count": 80,
   "id": "18a4aff4",
   "metadata": {},
   "outputs": [
    {
     "data": {
      "text/plain": [
       "Intercept                   1.117304e-11\n",
       "ExponentialOfSortingTime    3.964511e-03\n",
       "dtype: float64"
      ]
     },
     "execution_count": 80,
     "metadata": {},
     "output_type": "execute_result"
    }
   ],
   "source": [
    "model.pvalues"
   ]
  },
  {
   "cell_type": "code",
   "execution_count": 81,
   "id": "532287f1",
   "metadata": {},
   "outputs": [
    {
     "data": {
      "text/plain": [
       "0.361117702270909"
      ]
     },
     "execution_count": 81,
     "metadata": {},
     "output_type": "execute_result"
    }
   ],
   "source": [
    "model.rsquared"
   ]
  },
  {
   "cell_type": "markdown",
   "id": "4ca03f64",
   "metadata": {},
   "source": [
    "### Model Building using SKLEARN"
   ]
  },
  {
   "cell_type": "code",
   "execution_count": 82,
   "id": "6246cb8d",
   "metadata": {},
   "outputs": [
    {
     "data": {
      "text/plain": [
       "LinearRegression()"
      ]
     },
     "execution_count": 82,
     "metadata": {},
     "output_type": "execute_result"
    }
   ],
   "source": [
    "from sklearn.linear_model import LinearRegression\n",
    "\n",
    "slr_delivery=LinearRegression()\n",
    "\n",
    "slr_delivery.fit(pd.DataFrame(time_df['ExponentialOfSortingTime']),time_df['DeliveryTime'])"
   ]
  },
  {
   "cell_type": "code",
   "execution_count": 83,
   "id": "5445bfd6",
   "metadata": {},
   "outputs": [
    {
     "data": {
      "text/plain": [
       "15.083578039212629"
      ]
     },
     "execution_count": 83,
     "metadata": {},
     "output_type": "execute_result"
    }
   ],
   "source": [
    "slr_delivery.intercept_"
   ]
  },
  {
   "cell_type": "code",
   "execution_count": 84,
   "id": "e31da150",
   "metadata": {},
   "outputs": [
    {
     "data": {
      "text/plain": [
       "array([0.00039296])"
      ]
     },
     "execution_count": 84,
     "metadata": {},
     "output_type": "execute_result"
    }
   ],
   "source": [
    "slr_delivery.coef_"
   ]
  },
  {
   "cell_type": "markdown",
   "id": "9ebb7651",
   "metadata": {},
   "source": [
    "### RSquared value using SKLEARN"
   ]
  },
  {
   "cell_type": "code",
   "execution_count": 85,
   "id": "723e1d00",
   "metadata": {},
   "outputs": [
    {
     "data": {
      "text/plain": [
       "0.361117702270909"
      ]
     },
     "execution_count": 85,
     "metadata": {},
     "output_type": "execute_result"
    }
   ],
   "source": [
    "slr_delivery.score(pd.DataFrame(time_df['ExponentialOfSortingTime']),time_df['DeliveryTime'])"
   ]
  },
  {
   "cell_type": "markdown",
   "id": "8ad01329",
   "metadata": {},
   "source": [
    "### Model Prediction with formula"
   ]
  },
  {
   "cell_type": "code",
   "execution_count": 86,
   "id": "51d503a0",
   "metadata": {},
   "outputs": [
    {
     "data": {
      "text/plain": [
       "15.087900591384404"
      ]
     },
     "execution_count": 86,
     "metadata": {},
     "output_type": "execute_result"
    }
   ],
   "source": [
    "Delivery_Time=model.params[0]+model.params[1]*11\n",
    "Delivery_Time"
   ]
  },
  {
   "cell_type": "markdown",
   "id": "3aa58430",
   "metadata": {},
   "source": [
    "### Model Prediction without formula"
   ]
  },
  {
   "cell_type": "code",
   "execution_count": 87,
   "id": "589c5490",
   "metadata": {},
   "outputs": [
    {
     "data": {
      "text/html": [
       "<div>\n",
       "<style scoped>\n",
       "    .dataframe tbody tr th:only-of-type {\n",
       "        vertical-align: middle;\n",
       "    }\n",
       "\n",
       "    .dataframe tbody tr th {\n",
       "        vertical-align: top;\n",
       "    }\n",
       "\n",
       "    .dataframe thead th {\n",
       "        text-align: right;\n",
       "    }\n",
       "</style>\n",
       "<table border=\"1\" class=\"dataframe\">\n",
       "  <thead>\n",
       "    <tr style=\"text-align: right;\">\n",
       "      <th></th>\n",
       "      <th>DeliveryTime</th>\n",
       "    </tr>\n",
       "  </thead>\n",
       "  <tbody>\n",
       "    <tr>\n",
       "      <th>0</th>\n",
       "      <td>15.085543</td>\n",
       "    </tr>\n",
       "    <tr>\n",
       "      <th>1</th>\n",
       "      <td>15.087901</td>\n",
       "    </tr>\n",
       "    <tr>\n",
       "      <th>2</th>\n",
       "      <td>15.087508</td>\n",
       "    </tr>\n",
       "  </tbody>\n",
       "</table>\n",
       "</div>"
      ],
      "text/plain": [
       "   DeliveryTime\n",
       "0     15.085543\n",
       "1     15.087901\n",
       "2     15.087508"
      ]
     },
     "execution_count": 87,
     "metadata": {},
     "output_type": "execute_result"
    }
   ],
   "source": [
    "Test_Sorting_Time=pd.DataFrame([5,11,10],columns=[\"ExponentialOfSortingTime\"])\n",
    "\n",
    "delivery_time=pd.DataFrame({\"DeliveryTime\": model.predict(Test_Sorting_Time)})\n",
    "\n",
    "delivery_time"
   ]
  },
  {
   "cell_type": "code",
   "execution_count": 88,
   "id": "109edc61",
   "metadata": {},
   "outputs": [
    {
     "data": {
      "image/png": "[encoded data removed]",
      "text/plain": [
       "<Figure size 432x288 with 1 Axes>"
      ]
     },
     "metadata": {
      "needs_background": "light"
     },
     "output_type": "display_data"
    }
   ],
   "source": [
    "sns.regplot(data=time_df,x='ExponentialOfSortingTime',y='DeliveryTime');"
   ]
  },
  {
   "cell_type": "markdown",
   "id": "0d8106f9",
   "metadata": {},
   "source": [
    "#### Since p value is less than 0.05 this model is significant and it is able to explain 36.11% of the variation in the target variable value that is delivery time."
   ]
  },
  {
   "cell_type": "markdown",
   "id": "3e5b7866",
   "metadata": {},
   "source": [
    "## Simple Linear Regression- Predicting Salary"
   ]
  },
  {
   "cell_type": "code",
   "execution_count": 89,
   "id": "bcabdc54",
   "metadata": {},
   "outputs": [],
   "source": [
    "import pandas as pd \n",
    "import numpy as np\n",
    "import matplotlib.pyplot as plt \n",
    "import seaborn as sns"
   ]
  },
  {
   "cell_type": "code",
   "execution_count": 90,
   "id": "d5d01010",
   "metadata": {},
   "outputs": [
    {
     "data": {
      "text/html": [
       "<div>\n",
       "<style scoped>\n",
       "    .dataframe tbody tr th:only-of-type {\n",
       "        vertical-align: middle;\n",
       "    }\n",
       "\n",
       "    .dataframe tbody tr th {\n",
       "        vertical-align: top;\n",
       "    }\n",
       "\n",
       "    .dataframe thead th {\n",
       "        text-align: right;\n",
       "    }\n",
       "</style>\n",
       "<table border=\"1\" class=\"dataframe\">\n",
       "  <thead>\n",
       "    <tr style=\"text-align: right;\">\n",
       "      <th></th>\n",
       "      <th>YearsExperience</th>\n",
       "      <th>Salary</th>\n",
       "    </tr>\n",
       "  </thead>\n",
       "  <tbody>\n",
       "    <tr>\n",
       "      <th>0</th>\n",
       "      <td>1.1</td>\n",
       "      <td>39343.0</td>\n",
       "    </tr>\n",
       "    <tr>\n",
       "      <th>1</th>\n",
       "      <td>1.3</td>\n",
       "      <td>46205.0</td>\n",
       "    </tr>\n",
       "    <tr>\n",
       "      <th>2</th>\n",
       "      <td>1.5</td>\n",
       "      <td>37731.0</td>\n",
       "    </tr>\n",
       "    <tr>\n",
       "      <th>3</th>\n",
       "      <td>2.0</td>\n",
       "      <td>43525.0</td>\n",
       "    </tr>\n",
       "    <tr>\n",
       "      <th>4</th>\n",
       "      <td>2.2</td>\n",
       "      <td>39891.0</td>\n",
       "    </tr>\n",
       "  </tbody>\n",
       "</table>\n",
       "</div>"
      ],
      "text/plain": [
       "   YearsExperience   Salary\n",
       "0              1.1  39343.0\n",
       "1              1.3  46205.0\n",
       "2              1.5  37731.0\n",
       "3              2.0  43525.0\n",
       "4              2.2  39891.0"
      ]
     },
     "execution_count": 90,
     "metadata": {},
     "output_type": "execute_result"
    }
   ],
   "source": [
    "salary_df=pd.read_csv(\"Salary_Data.csv\")\n",
    "\n",
    "salary_df.head()"
   ]
  },
  {
   "cell_type": "markdown",
   "id": "972cbba2",
   "metadata": {},
   "source": [
    "### EDA"
   ]
  },
  {
   "cell_type": "code",
   "execution_count": 91,
   "id": "15f7e7e6",
   "metadata": {},
   "outputs": [
    {
     "name": "stdout",
     "output_type": "stream",
     "text": [
      "<class 'pandas.core.frame.DataFrame'>\n",
      "RangeIndex: 30 entries, 0 to 29\n",
      "Data columns (total 2 columns):\n",
      " #   Column           Non-Null Count  Dtype  \n",
      "---  ------           --------------  -----  \n",
      " 0   YearsExperience  30 non-null     float64\n",
      " 1   Salary           30 non-null     float64\n",
      "dtypes: float64(2)\n",
      "memory usage: 608.0 bytes\n"
     ]
    }
   ],
   "source": [
    "salary_df.info()"
   ]
  },
  {
   "cell_type": "code",
   "execution_count": 92,
   "id": "6430b1a5",
   "metadata": {},
   "outputs": [
    {
     "data": {
      "text/plain": [
       "(30, 2)"
      ]
     },
     "execution_count": 92,
     "metadata": {},
     "output_type": "execute_result"
    }
   ],
   "source": [
    "salary_df.shape"
   ]
  },
  {
   "cell_type": "markdown",
   "id": "fb7b2c19",
   "metadata": {},
   "source": [
    "### Outliers Detection"
   ]
  },
  {
   "cell_type": "code",
   "execution_count": 93,
   "id": "d54bf734",
   "metadata": {},
   "outputs": [
    {
     "data": {
      "image/png": "[encoded data removed]",
      "text/plain": [
       "<Figure size 432x288 with 2 Axes>"
      ]
     },
     "metadata": {
      "needs_background": "light"
     },
     "output_type": "display_data"
    }
   ],
   "source": [
    "salary_df.plot(kind='box',subplots=True)\n",
    "plt.tight_layout();"
   ]
  },
  {
   "cell_type": "markdown",
   "id": "f38bc429",
   "metadata": {},
   "source": [
    "### Co-relation Analysis"
   ]
  },
  {
   "cell_type": "code",
   "execution_count": 94,
   "id": "c04b00df",
   "metadata": {},
   "outputs": [
    {
     "data": {
      "text/html": [
       "<div>\n",
       "<style scoped>\n",
       "    .dataframe tbody tr th:only-of-type {\n",
       "        vertical-align: middle;\n",
       "    }\n",
       "\n",
       "    .dataframe tbody tr th {\n",
       "        vertical-align: top;\n",
       "    }\n",
       "\n",
       "    .dataframe thead th {\n",
       "        text-align: right;\n",
       "    }\n",
       "</style>\n",
       "<table border=\"1\" class=\"dataframe\">\n",
       "  <thead>\n",
       "    <tr style=\"text-align: right;\">\n",
       "      <th></th>\n",
       "      <th>YearsExperience</th>\n",
       "      <th>Salary</th>\n",
       "    </tr>\n",
       "  </thead>\n",
       "  <tbody>\n",
       "    <tr>\n",
       "      <th>YearsExperience</th>\n",
       "      <td>1.00</td>\n",
       "      <td>0.98</td>\n",
       "    </tr>\n",
       "    <tr>\n",
       "      <th>Salary</th>\n",
       "      <td>0.98</td>\n",
       "      <td>1.00</td>\n",
       "    </tr>\n",
       "  </tbody>\n",
       "</table>\n",
       "</div>"
      ],
      "text/plain": [
       "                 YearsExperience  Salary\n",
       "YearsExperience             1.00    0.98\n",
       "Salary                      0.98    1.00"
      ]
     },
     "execution_count": 94,
     "metadata": {},
     "output_type": "execute_result"
    }
   ],
   "source": [
    "corelation=np.round(salary_df.corr(),2)\n",
    "corelation"
   ]
  },
  {
   "cell_type": "code",
   "execution_count": 95,
   "id": "d0f6f362",
   "metadata": {},
   "outputs": [
    {
     "data": {
      "image/png": "[encoded data removed]",
      "text/plain": [
       "<Figure size 432x288 with 2 Axes>"
      ]
     },
     "metadata": {
      "needs_background": "light"
     },
     "output_type": "display_data"
    }
   ],
   "source": [
    "sns.heatmap(data=corelation,annot=True,vmax=1,vmin=-1,cmap='plasma',mask=np.triu(corelation,1));"
   ]
  },
  {
   "cell_type": "markdown",
   "id": "d97519e7",
   "metadata": {},
   "source": [
    "### Check for Duplicates and empty rows"
   ]
  },
  {
   "cell_type": "code",
   "execution_count": 96,
   "id": "c819e9aa",
   "metadata": {},
   "outputs": [
    {
     "data": {
      "text/plain": [
       "0"
      ]
     },
     "execution_count": 96,
     "metadata": {},
     "output_type": "execute_result"
    }
   ],
   "source": [
    "salary_df.duplicated().sum()"
   ]
  },
  {
   "cell_type": "code",
   "execution_count": 97,
   "id": "fd270934",
   "metadata": {},
   "outputs": [
    {
     "data": {
      "text/plain": [
       "[{'mean': 5.3133333333333335,\n",
       "  'iqr': 4.5,\n",
       "  'cilo': 3.410113377075334,\n",
       "  'cihi': 5.989886622924667,\n",
       "  'whishi': 10.5,\n",
       "  'whislo': 1.1,\n",
       "  'fliers': array([], dtype=float64),\n",
       "  'q1': 3.2,\n",
       "  'med': 4.7,\n",
       "  'q3': 7.7}]"
      ]
     },
     "execution_count": 97,
     "metadata": {},
     "output_type": "execute_result"
    }
   ],
   "source": [
    "from matplotlib.cbook import boxplot_stats\n",
    "boxplot_stats(salary_df['YearsExperience'])"
   ]
  },
  {
   "cell_type": "code",
   "execution_count": 98,
   "id": "ad455301",
   "metadata": {},
   "outputs": [
    {
     "data": {
      "text/plain": [
       "YearsExperience    0\n",
       "Salary             0\n",
       "dtype: int64"
      ]
     },
     "execution_count": 98,
     "metadata": {},
     "output_type": "execute_result"
    }
   ],
   "source": [
    "salary_df.isnull().sum()"
   ]
  },
  {
   "cell_type": "markdown",
   "id": "eba0ce0e",
   "metadata": {},
   "source": [
    "### Model Building using Statsmodels"
   ]
  },
  {
   "cell_type": "code",
   "execution_count": 99,
   "id": "b4a1187d",
   "metadata": {},
   "outputs": [],
   "source": [
    "from statsmodels.formula.api import ols"
   ]
  },
  {
   "cell_type": "code",
   "execution_count": 100,
   "id": "0398acf9",
   "metadata": {},
   "outputs": [],
   "source": [
    "salary_df=salary_df.rename({\"YearsExperience\":\"YearsOfExperience\",\"Salary_Data.csv\":\"Salary\"},axis=1)"
   ]
  },
  {
   "cell_type": "code",
   "execution_count": 101,
   "id": "34140286",
   "metadata": {},
   "outputs": [
    {
     "name": "stdout",
     "output_type": "stream",
     "text": [
      "                            OLS Regression Results                            \n",
      "==============================================================================\n",
      "Dep. Variable:                 Salary   R-squared:                       0.957\n",
      "Model:                            OLS   Adj. R-squared:                  0.955\n",
      "Method:                 Least Squares   F-statistic:                     622.5\n",
      "Date:                Mon, 06 Mar 2023   Prob (F-statistic):           1.14e-20\n",
      "Time:                        11:12:56   Log-Likelihood:                -301.44\n",
      "No. Observations:                  30   AIC:                             606.9\n",
      "Df Residuals:                      28   BIC:                             609.7\n",
      "Df Model:                           1                                         \n",
      "Covariance Type:            nonrobust                                         \n",
      "=====================================================================================\n",
      "                        coef    std err          t      P>|t|      [0.025      0.975]\n",
      "-------------------------------------------------------------------------------------\n",
      "Intercept          2.579e+04   2273.053     11.347      0.000    2.11e+04    3.04e+04\n",
      "YearsOfExperience  9449.9623    378.755     24.950      0.000    8674.119    1.02e+04\n",
      "==============================================================================\n",
      "Omnibus:                        2.140   Durbin-Watson:                   1.648\n",
      "Prob(Omnibus):                  0.343   Jarque-Bera (JB):                1.569\n",
      "Skew:                           0.363   Prob(JB):                        0.456\n",
      "Kurtosis:                       2.147   Cond. No.                         13.2\n",
      "==============================================================================\n",
      "\n",
      "Notes:\n",
      "[1] Standard Errors assume that the covariance matrix of the errors is correctly specified.\n"
     ]
    }
   ],
   "source": [
    "model=ols(formula='Salary ~ YearsOfExperience',data=salary_df).fit()\n",
    "print(model.summary())"
   ]
  },
  {
   "cell_type": "code",
   "execution_count": 102,
   "id": "e339275c",
   "metadata": {},
   "outputs": [
    {
     "data": {
      "text/plain": [
       "Intercept            25792.200199\n",
       "YearsOfExperience     9449.962321\n",
       "dtype: float64"
      ]
     },
     "execution_count": 102,
     "metadata": {},
     "output_type": "execute_result"
    }
   ],
   "source": [
    "model.params"
   ]
  },
  {
   "cell_type": "code",
   "execution_count": 103,
   "id": "7799e348",
   "metadata": {},
   "outputs": [
    {
     "data": {
      "text/plain": [
       "Intercept            5.511950e-12\n",
       "YearsOfExperience    1.143068e-20\n",
       "dtype: float64"
      ]
     },
     "execution_count": 103,
     "metadata": {},
     "output_type": "execute_result"
    }
   ],
   "source": [
    "model.pvalues"
   ]
  },
  {
   "cell_type": "code",
   "execution_count": 104,
   "id": "15b5ffa6",
   "metadata": {},
   "outputs": [
    {
     "data": {
      "text/plain": [
       "0.9569566641435086"
      ]
     },
     "execution_count": 104,
     "metadata": {},
     "output_type": "execute_result"
    }
   ],
   "source": [
    "model.rsquared"
   ]
  },
  {
   "cell_type": "markdown",
   "id": "70e124fa",
   "metadata": {},
   "source": [
    "### Model Building using SKLEARN"
   ]
  },
  {
   "cell_type": "code",
   "execution_count": 105,
   "id": "be04fcaa",
   "metadata": {},
   "outputs": [
    {
     "data": {
      "text/plain": [
       "LinearRegression()"
      ]
     },
     "execution_count": 105,
     "metadata": {},
     "output_type": "execute_result"
    }
   ],
   "source": [
    "from sklearn.linear_model import LinearRegression\n",
    "slr_salary=LinearRegression()\n",
    "slr_salary.fit(pd.DataFrame(salary_df['YearsOfExperience']),salary_df['Salary'])"
   ]
  },
  {
   "cell_type": "code",
   "execution_count": 106,
   "id": "f6599178",
   "metadata": {},
   "outputs": [
    {
     "data": {
      "text/plain": [
       "25792.20019866871"
      ]
     },
     "execution_count": 106,
     "metadata": {},
     "output_type": "execute_result"
    }
   ],
   "source": [
    "slr_salary.intercept_"
   ]
  },
  {
   "cell_type": "code",
   "execution_count": 107,
   "id": "b4897d24",
   "metadata": {},
   "outputs": [
    {
     "data": {
      "text/plain": [
       "array([9449.96232146])"
      ]
     },
     "execution_count": 107,
     "metadata": {},
     "output_type": "execute_result"
    }
   ],
   "source": [
    "slr_salary.coef_"
   ]
  },
  {
   "cell_type": "markdown",
   "id": "93a3fefa",
   "metadata": {},
   "source": [
    "### RSquared value using SKLEARN"
   ]
  },
  {
   "cell_type": "code",
   "execution_count": 108,
   "id": "9325a771",
   "metadata": {},
   "outputs": [
    {
     "data": {
      "text/plain": [
       "0.9569566641435086"
      ]
     },
     "execution_count": 108,
     "metadata": {},
     "output_type": "execute_result"
    }
   ],
   "source": [
    "slr_salary.score(pd.DataFrame(salary_df['YearsOfExperience']),salary_df['Salary'])"
   ]
  },
  {
   "cell_type": "markdown",
   "id": "361a66fa",
   "metadata": {},
   "source": [
    "### Model Prediction with formula"
   ]
  },
  {
   "cell_type": "code",
   "execution_count": 109,
   "id": "0af4ea51",
   "metadata": {},
   "outputs": [
    {
     "data": {
      "text/plain": [
       "37132.154984414796"
      ]
     },
     "execution_count": 109,
     "metadata": {},
     "output_type": "execute_result"
    }
   ],
   "source": [
    "Salary_Hike=model.params[0]+model.params[1]*1.2\n",
    "Salary_Hike"
   ]
  },
  {
   "cell_type": "markdown",
   "id": "27869ea0",
   "metadata": {},
   "source": [
    "### Model Prediction without formula"
   ]
  },
  {
   "cell_type": "code",
   "execution_count": 110,
   "id": "c096c868",
   "metadata": {},
   "outputs": [
    {
     "data": {
      "text/html": [
       "<div>\n",
       "<style scoped>\n",
       "    .dataframe tbody tr th:only-of-type {\n",
       "        vertical-align: middle;\n",
       "    }\n",
       "\n",
       "    .dataframe tbody tr th {\n",
       "        vertical-align: top;\n",
       "    }\n",
       "\n",
       "    .dataframe thead th {\n",
       "        text-align: right;\n",
       "    }\n",
       "</style>\n",
       "<table border=\"1\" class=\"dataframe\">\n",
       "  <thead>\n",
       "    <tr style=\"text-align: right;\">\n",
       "      <th></th>\n",
       "      <th>YearsOfExperience</th>\n",
       "    </tr>\n",
       "  </thead>\n",
       "  <tbody>\n",
       "    <tr>\n",
       "      <th>0</th>\n",
       "      <td>1.2</td>\n",
       "    </tr>\n",
       "    <tr>\n",
       "      <th>1</th>\n",
       "      <td>3.0</td>\n",
       "    </tr>\n",
       "    <tr>\n",
       "      <th>2</th>\n",
       "      <td>5.0</td>\n",
       "    </tr>\n",
       "  </tbody>\n",
       "</table>\n",
       "</div>"
      ],
      "text/plain": [
       "   YearsOfExperience\n",
       "0                1.2\n",
       "1                3.0\n",
       "2                5.0"
      ]
     },
     "execution_count": 110,
     "metadata": {},
     "output_type": "execute_result"
    }
   ],
   "source": [
    "Test_YearsOfExperience=pd.DataFrame([1.2,3,5],columns=[\"YearsOfExperience\"])\n",
    "Test_YearsOfExperience"
   ]
  },
  {
   "cell_type": "code",
   "execution_count": 111,
   "id": "ccf6b774",
   "metadata": {},
   "outputs": [],
   "source": [
    "Salary_Hike=pd.DataFrame({\"Salary_Hike\": model.predict(Test_YearsOfExperience)})"
   ]
  },
  {
   "cell_type": "code",
   "execution_count": 112,
   "id": "42119540",
   "metadata": {},
   "outputs": [
    {
     "data": {
      "text/html": [
       "<div>\n",
       "<style scoped>\n",
       "    .dataframe tbody tr th:only-of-type {\n",
       "        vertical-align: middle;\n",
       "    }\n",
       "\n",
       "    .dataframe tbody tr th {\n",
       "        vertical-align: top;\n",
       "    }\n",
       "\n",
       "    .dataframe thead th {\n",
       "        text-align: right;\n",
       "    }\n",
       "</style>\n",
       "<table border=\"1\" class=\"dataframe\">\n",
       "  <thead>\n",
       "    <tr style=\"text-align: right;\">\n",
       "      <th></th>\n",
       "      <th>Salary_Hike</th>\n",
       "    </tr>\n",
       "  </thead>\n",
       "  <tbody>\n",
       "    <tr>\n",
       "      <th>0</th>\n",
       "      <td>37132.154984</td>\n",
       "    </tr>\n",
       "    <tr>\n",
       "      <th>1</th>\n",
       "      <td>54142.087163</td>\n",
       "    </tr>\n",
       "    <tr>\n",
       "      <th>2</th>\n",
       "      <td>73042.011806</td>\n",
       "    </tr>\n",
       "  </tbody>\n",
       "</table>\n",
       "</div>"
      ],
      "text/plain": [
       "    Salary_Hike\n",
       "0  37132.154984\n",
       "1  54142.087163\n",
       "2  73042.011806"
      ]
     },
     "execution_count": 112,
     "metadata": {},
     "output_type": "execute_result"
    }
   ],
   "source": [
    "Salary_Hike"
   ]
  },
  {
   "cell_type": "code",
   "execution_count": 113,
   "id": "df0cd895",
   "metadata": {},
   "outputs": [
    {
     "data": {
      "image/png": "[encoded data removed]",
      "text/plain": [
       "<Figure size 432x288 with 1 Axes>"
      ]
     },
     "metadata": {
      "needs_background": "light"
     },
     "output_type": "display_data"
    }
   ],
   "source": [
    "sns.regplot(data=salary_df,x='YearsOfExperience',y='Salary');"
   ]
  },
  {
   "cell_type": "markdown",
   "id": "15c394c6",
   "metadata": {},
   "source": [
    "#### Since p value is less than 0.05 this model is significant and it is able to explain 95.69% of the variation in the target variable value that is Salary Hike."
   ]
  },
  {
   "cell_type": "markdown",
   "id": "575d8e9c",
   "metadata": {},
   "source": [
    "## Simple Linear Regression- Predicting Salary-Transformed Data(Log)"
   ]
  },
  {
   "cell_type": "code",
   "execution_count": 114,
   "id": "e2e0febd",
   "metadata": {},
   "outputs": [],
   "source": [
    "import pandas as pd \n",
    "import numpy as np\n",
    "import matplotlib.pyplot as plt \n",
    "import seaborn as sns"
   ]
  },
  {
   "cell_type": "code",
   "execution_count": 115,
   "id": "324b96c8",
   "metadata": {},
   "outputs": [
    {
     "data": {
      "text/html": [
       "<div>\n",
       "<style scoped>\n",
       "    .dataframe tbody tr th:only-of-type {\n",
       "        vertical-align: middle;\n",
       "    }\n",
       "\n",
       "    .dataframe tbody tr th {\n",
       "        vertical-align: top;\n",
       "    }\n",
       "\n",
       "    .dataframe thead th {\n",
       "        text-align: right;\n",
       "    }\n",
       "</style>\n",
       "<table border=\"1\" class=\"dataframe\">\n",
       "  <thead>\n",
       "    <tr style=\"text-align: right;\">\n",
       "      <th></th>\n",
       "      <th>YearsExperience</th>\n",
       "      <th>Salary</th>\n",
       "    </tr>\n",
       "  </thead>\n",
       "  <tbody>\n",
       "    <tr>\n",
       "      <th>0</th>\n",
       "      <td>1.1</td>\n",
       "      <td>39343.0</td>\n",
       "    </tr>\n",
       "    <tr>\n",
       "      <th>1</th>\n",
       "      <td>1.3</td>\n",
       "      <td>46205.0</td>\n",
       "    </tr>\n",
       "    <tr>\n",
       "      <th>2</th>\n",
       "      <td>1.5</td>\n",
       "      <td>37731.0</td>\n",
       "    </tr>\n",
       "    <tr>\n",
       "      <th>3</th>\n",
       "      <td>2.0</td>\n",
       "      <td>43525.0</td>\n",
       "    </tr>\n",
       "    <tr>\n",
       "      <th>4</th>\n",
       "      <td>2.2</td>\n",
       "      <td>39891.0</td>\n",
       "    </tr>\n",
       "  </tbody>\n",
       "</table>\n",
       "</div>"
      ],
      "text/plain": [
       "   YearsExperience   Salary\n",
       "0              1.1  39343.0\n",
       "1              1.3  46205.0\n",
       "2              1.5  37731.0\n",
       "3              2.0  43525.0\n",
       "4              2.2  39891.0"
      ]
     },
     "execution_count": 115,
     "metadata": {},
     "output_type": "execute_result"
    }
   ],
   "source": [
    "salary_df=pd.read_csv(\"Salary_Data.csv\")\n",
    "\n",
    "salary_df.head()"
   ]
  },
  {
   "cell_type": "code",
   "execution_count": 116,
   "id": "eaf07974",
   "metadata": {},
   "outputs": [
    {
     "data": {
      "text/html": [
       "<div>\n",
       "<style scoped>\n",
       "    .dataframe tbody tr th:only-of-type {\n",
       "        vertical-align: middle;\n",
       "    }\n",
       "\n",
       "    .dataframe tbody tr th {\n",
       "        vertical-align: top;\n",
       "    }\n",
       "\n",
       "    .dataframe thead th {\n",
       "        text-align: right;\n",
       "    }\n",
       "</style>\n",
       "<table border=\"1\" class=\"dataframe\">\n",
       "  <thead>\n",
       "    <tr style=\"text-align: right;\">\n",
       "      <th></th>\n",
       "      <th>YearsExperience</th>\n",
       "      <th>Salary</th>\n",
       "      <th>Log_Of_YearsExperience</th>\n",
       "    </tr>\n",
       "  </thead>\n",
       "  <tbody>\n",
       "    <tr>\n",
       "      <th>0</th>\n",
       "      <td>1.1</td>\n",
       "      <td>39343.0</td>\n",
       "      <td>0.095310</td>\n",
       "    </tr>\n",
       "    <tr>\n",
       "      <th>1</th>\n",
       "      <td>1.3</td>\n",
       "      <td>46205.0</td>\n",
       "      <td>0.262364</td>\n",
       "    </tr>\n",
       "    <tr>\n",
       "      <th>2</th>\n",
       "      <td>1.5</td>\n",
       "      <td>37731.0</td>\n",
       "      <td>0.405465</td>\n",
       "    </tr>\n",
       "    <tr>\n",
       "      <th>3</th>\n",
       "      <td>2.0</td>\n",
       "      <td>43525.0</td>\n",
       "      <td>0.693147</td>\n",
       "    </tr>\n",
       "    <tr>\n",
       "      <th>4</th>\n",
       "      <td>2.2</td>\n",
       "      <td>39891.0</td>\n",
       "      <td>0.788457</td>\n",
       "    </tr>\n",
       "  </tbody>\n",
       "</table>\n",
       "</div>"
      ],
      "text/plain": [
       "   YearsExperience   Salary  Log_Of_YearsExperience\n",
       "0              1.1  39343.0                0.095310\n",
       "1              1.3  46205.0                0.262364\n",
       "2              1.5  37731.0                0.405465\n",
       "3              2.0  43525.0                0.693147\n",
       "4              2.2  39891.0                0.788457"
      ]
     },
     "execution_count": 116,
     "metadata": {},
     "output_type": "execute_result"
    }
   ],
   "source": [
    "salary_df[\"Log_Of_YearsExperience\"]=np.log(salary_df[\"YearsExperience\"])\n",
    "\n",
    "salary_df.head()"
   ]
  },
  {
   "cell_type": "markdown",
   "id": "3ab3589b",
   "metadata": {},
   "source": [
    "### Model Building using Statsmodels"
   ]
  },
  {
   "cell_type": "code",
   "execution_count": 117,
   "id": "d8731b36",
   "metadata": {},
   "outputs": [
    {
     "name": "stdout",
     "output_type": "stream",
     "text": [
      "                            OLS Regression Results                            \n",
      "==============================================================================\n",
      "Dep. Variable:                 Salary   R-squared:                       0.854\n",
      "Model:                            OLS   Adj. R-squared:                  0.849\n",
      "Method:                 Least Squares   F-statistic:                     163.6\n",
      "Date:                Mon, 06 Mar 2023   Prob (F-statistic):           3.25e-13\n",
      "Time:                        11:12:57   Log-Likelihood:                -319.77\n",
      "No. Observations:                  30   AIC:                             643.5\n",
      "Df Residuals:                      28   BIC:                             646.3\n",
      "Df Model:                           1                                         \n",
      "Covariance Type:            nonrobust                                         \n",
      "========================================================================================\n",
      "                           coef    std err          t      P>|t|      [0.025      0.975]\n",
      "----------------------------------------------------------------------------------------\n",
      "Intercept             1.493e+04   5156.226      2.895      0.007    4365.921    2.55e+04\n",
      "LogOfYearsExperience  4.058e+04   3172.453     12.792      0.000    3.41e+04    4.71e+04\n",
      "==============================================================================\n",
      "Omnibus:                        1.094   Durbin-Watson:                   0.512\n",
      "Prob(Omnibus):                  0.579   Jarque-Bera (JB):                0.908\n",
      "Skew:                           0.156   Prob(JB):                        0.635\n",
      "Kurtosis:                       2.207   Cond. No.                         5.76\n",
      "==============================================================================\n",
      "\n",
      "Notes:\n",
      "[1] Standard Errors assume that the covariance matrix of the errors is correctly specified.\n"
     ]
    }
   ],
   "source": [
    "from statsmodels.formula.api import ols\n",
    "\n",
    "salary_df=salary_df.rename({\"Log_Of_YearsExperience\":\"LogOfYearsExperience\",\"Salary_Data.csv\":\"Salary\"},axis=1)\n",
    "\n",
    "model=ols(formula='Salary ~ LogOfYearsExperience',data=salary_df).fit()\n",
    "print(model.summary())"
   ]
  },
  {
   "cell_type": "code",
   "execution_count": 118,
   "id": "fa2dca15",
   "metadata": {},
   "outputs": [
    {
     "data": {
      "text/plain": [
       "Intercept               14927.97177\n",
       "LogOfYearsExperience    40581.98796\n",
       "dtype: float64"
      ]
     },
     "execution_count": 118,
     "metadata": {},
     "output_type": "execute_result"
    }
   ],
   "source": [
    "model.params"
   ]
  },
  {
   "cell_type": "code",
   "execution_count": 119,
   "id": "19d8e12b",
   "metadata": {},
   "outputs": [
    {
     "data": {
      "text/plain": [
       "Intercept               7.268813e-03\n",
       "LogOfYearsExperience    3.250155e-13\n",
       "dtype: float64"
      ]
     },
     "execution_count": 119,
     "metadata": {},
     "output_type": "execute_result"
    }
   ],
   "source": [
    "model.pvalues"
   ]
  },
  {
   "cell_type": "code",
   "execution_count": 120,
   "id": "c13f3a27",
   "metadata": {},
   "outputs": [
    {
     "data": {
      "text/plain": [
       "0.8538888828756969"
      ]
     },
     "execution_count": 120,
     "metadata": {},
     "output_type": "execute_result"
    }
   ],
   "source": [
    "model.rsquared"
   ]
  },
  {
   "cell_type": "markdown",
   "id": "1d7049b7",
   "metadata": {},
   "source": [
    "### Model Building using SKLEARN"
   ]
  },
  {
   "cell_type": "code",
   "execution_count": 121,
   "id": "87892b6f",
   "metadata": {},
   "outputs": [
    {
     "data": {
      "text/plain": [
       "LinearRegression()"
      ]
     },
     "execution_count": 121,
     "metadata": {},
     "output_type": "execute_result"
    }
   ],
   "source": [
    "from sklearn.linear_model import LinearRegression\n",
    "slr_salary=LinearRegression()\n",
    "slr_salary.fit(pd.DataFrame(salary_df['LogOfYearsExperience']),salary_df['Salary'])"
   ]
  },
  {
   "cell_type": "code",
   "execution_count": 122,
   "id": "020e03a2",
   "metadata": {},
   "outputs": [
    {
     "data": {
      "text/plain": [
       "14927.971770057287"
      ]
     },
     "execution_count": 122,
     "metadata": {},
     "output_type": "execute_result"
    }
   ],
   "source": [
    "slr_salary.intercept_"
   ]
  },
  {
   "cell_type": "code",
   "execution_count": 123,
   "id": "29dbb79f",
   "metadata": {},
   "outputs": [
    {
     "data": {
      "text/plain": [
       "array([40581.98795978])"
      ]
     },
     "execution_count": 123,
     "metadata": {},
     "output_type": "execute_result"
    }
   ],
   "source": [
    "slr_salary.coef_"
   ]
  },
  {
   "cell_type": "markdown",
   "id": "41c13fe9",
   "metadata": {},
   "source": [
    "### RSquared value using SKLEARN"
   ]
  },
  {
   "cell_type": "code",
   "execution_count": 124,
   "id": "d769d200",
   "metadata": {},
   "outputs": [
    {
     "data": {
      "text/plain": [
       "0.853888882875697"
      ]
     },
     "execution_count": 124,
     "metadata": {},
     "output_type": "execute_result"
    }
   ],
   "source": [
    "slr_salary.score(pd.DataFrame(salary_df['LogOfYearsExperience']),salary_df['Salary'])"
   ]
  },
  {
   "cell_type": "markdown",
   "id": "ecb018a2",
   "metadata": {},
   "source": [
    "### Model Prediction with formula"
   ]
  },
  {
   "cell_type": "code",
   "execution_count": 125,
   "id": "7c3d397b",
   "metadata": {},
   "outputs": [
    {
     "data": {
      "text/plain": [
       "63626.35732179214"
      ]
     },
     "execution_count": 125,
     "metadata": {},
     "output_type": "execute_result"
    }
   ],
   "source": [
    "Salary_Hike=model.params[0]+model.params[1]*1.2\n",
    "Salary_Hike"
   ]
  },
  {
   "cell_type": "markdown",
   "id": "abb64b79",
   "metadata": {},
   "source": [
    "### Model Prediction without formula"
   ]
  },
  {
   "cell_type": "code",
   "execution_count": 126,
   "id": "47cd42b8",
   "metadata": {},
   "outputs": [
    {
     "data": {
      "text/html": [
       "<div>\n",
       "<style scoped>\n",
       "    .dataframe tbody tr th:only-of-type {\n",
       "        vertical-align: middle;\n",
       "    }\n",
       "\n",
       "    .dataframe tbody tr th {\n",
       "        vertical-align: top;\n",
       "    }\n",
       "\n",
       "    .dataframe thead th {\n",
       "        text-align: right;\n",
       "    }\n",
       "</style>\n",
       "<table border=\"1\" class=\"dataframe\">\n",
       "  <thead>\n",
       "    <tr style=\"text-align: right;\">\n",
       "      <th></th>\n",
       "      <th>Salary_Hike</th>\n",
       "    </tr>\n",
       "  </thead>\n",
       "  <tbody>\n",
       "    <tr>\n",
       "      <th>0</th>\n",
       "      <td>63626.357322</td>\n",
       "    </tr>\n",
       "    <tr>\n",
       "      <th>1</th>\n",
       "      <td>136673.935649</td>\n",
       "    </tr>\n",
       "    <tr>\n",
       "      <th>2</th>\n",
       "      <td>217837.911569</td>\n",
       "    </tr>\n",
       "  </tbody>\n",
       "</table>\n",
       "</div>"
      ],
      "text/plain": [
       "     Salary_Hike\n",
       "0   63626.357322\n",
       "1  136673.935649\n",
       "2  217837.911569"
      ]
     },
     "execution_count": 126,
     "metadata": {},
     "output_type": "execute_result"
    }
   ],
   "source": [
    "Test_YearsOfExperience=pd.DataFrame([1.2,3,5],columns=[\"LogOfYearsExperience\"])\n",
    "Test_YearsOfExperience\n",
    "\n",
    "Salary_Hike=pd.DataFrame({\"Salary_Hike\": model.predict(Test_YearsOfExperience)})\n",
    "\n",
    "Salary_Hike"
   ]
  },
  {
   "cell_type": "code",
   "execution_count": 127,
   "id": "a42a7d24",
   "metadata": {},
   "outputs": [
    {
     "data": {
      "image/png": "[encoded data removed]",
      "text/plain": [
       "<Figure size 432x288 with 1 Axes>"
      ]
     },
     "metadata": {
      "needs_background": "light"
     },
     "output_type": "display_data"
    }
   ],
   "source": [
    "sns.regplot(data=salary_df,x='LogOfYearsExperience',y='Salary');"
   ]
  },
  {
   "cell_type": "markdown",
   "id": "6133c7c1",
   "metadata": {},
   "source": [
    "#### Since p value is less than 0.05 this model is significant and it is able to explain 85.38% of the variation in the target variable value that is Salary Hike."
   ]
  },
  {
   "cell_type": "markdown",
   "id": "db543a04",
   "metadata": {},
   "source": [
    "## Simple Linear Regression- Predicting Salary-Transformed Data(Squared)"
   ]
  },
  {
   "cell_type": "code",
   "execution_count": 128,
   "id": "eae8e872",
   "metadata": {},
   "outputs": [],
   "source": [
    "import pandas as pd \n",
    "import numpy as np\n",
    "import matplotlib.pyplot as plt \n",
    "import seaborn as sns"
   ]
  },
  {
   "cell_type": "code",
   "execution_count": 129,
   "id": "62d79c18",
   "metadata": {},
   "outputs": [
    {
     "data": {
      "text/html": [
       "<div>\n",
       "<style scoped>\n",
       "    .dataframe tbody tr th:only-of-type {\n",
       "        vertical-align: middle;\n",
       "    }\n",
       "\n",
       "    .dataframe tbody tr th {\n",
       "        vertical-align: top;\n",
       "    }\n",
       "\n",
       "    .dataframe thead th {\n",
       "        text-align: right;\n",
       "    }\n",
       "</style>\n",
       "<table border=\"1\" class=\"dataframe\">\n",
       "  <thead>\n",
       "    <tr style=\"text-align: right;\">\n",
       "      <th></th>\n",
       "      <th>YearsExperience</th>\n",
       "      <th>Salary</th>\n",
       "    </tr>\n",
       "  </thead>\n",
       "  <tbody>\n",
       "    <tr>\n",
       "      <th>0</th>\n",
       "      <td>1.1</td>\n",
       "      <td>39343.0</td>\n",
       "    </tr>\n",
       "    <tr>\n",
       "      <th>1</th>\n",
       "      <td>1.3</td>\n",
       "      <td>46205.0</td>\n",
       "    </tr>\n",
       "    <tr>\n",
       "      <th>2</th>\n",
       "      <td>1.5</td>\n",
       "      <td>37731.0</td>\n",
       "    </tr>\n",
       "    <tr>\n",
       "      <th>3</th>\n",
       "      <td>2.0</td>\n",
       "      <td>43525.0</td>\n",
       "    </tr>\n",
       "    <tr>\n",
       "      <th>4</th>\n",
       "      <td>2.2</td>\n",
       "      <td>39891.0</td>\n",
       "    </tr>\n",
       "  </tbody>\n",
       "</table>\n",
       "</div>"
      ],
      "text/plain": [
       "   YearsExperience   Salary\n",
       "0              1.1  39343.0\n",
       "1              1.3  46205.0\n",
       "2              1.5  37731.0\n",
       "3              2.0  43525.0\n",
       "4              2.2  39891.0"
      ]
     },
     "execution_count": 129,
     "metadata": {},
     "output_type": "execute_result"
    }
   ],
   "source": [
    "salary_df=pd.read_csv(\"Salary_Data.csv\")\n",
    "\n",
    "salary_df.head()"
   ]
  },
  {
   "cell_type": "code",
   "execution_count": 130,
   "id": "f665db20",
   "metadata": {},
   "outputs": [
    {
     "data": {
      "text/html": [
       "<div>\n",
       "<style scoped>\n",
       "    .dataframe tbody tr th:only-of-type {\n",
       "        vertical-align: middle;\n",
       "    }\n",
       "\n",
       "    .dataframe tbody tr th {\n",
       "        vertical-align: top;\n",
       "    }\n",
       "\n",
       "    .dataframe thead th {\n",
       "        text-align: right;\n",
       "    }\n",
       "</style>\n",
       "<table border=\"1\" class=\"dataframe\">\n",
       "  <thead>\n",
       "    <tr style=\"text-align: right;\">\n",
       "      <th></th>\n",
       "      <th>YearsExperience</th>\n",
       "      <th>Salary</th>\n",
       "      <th>Squared_Of_YearsExperience</th>\n",
       "    </tr>\n",
       "  </thead>\n",
       "  <tbody>\n",
       "    <tr>\n",
       "      <th>0</th>\n",
       "      <td>1.1</td>\n",
       "      <td>39343.0</td>\n",
       "      <td>1.21</td>\n",
       "    </tr>\n",
       "    <tr>\n",
       "      <th>1</th>\n",
       "      <td>1.3</td>\n",
       "      <td>46205.0</td>\n",
       "      <td>1.69</td>\n",
       "    </tr>\n",
       "    <tr>\n",
       "      <th>2</th>\n",
       "      <td>1.5</td>\n",
       "      <td>37731.0</td>\n",
       "      <td>2.25</td>\n",
       "    </tr>\n",
       "    <tr>\n",
       "      <th>3</th>\n",
       "      <td>2.0</td>\n",
       "      <td>43525.0</td>\n",
       "      <td>4.00</td>\n",
       "    </tr>\n",
       "    <tr>\n",
       "      <th>4</th>\n",
       "      <td>2.2</td>\n",
       "      <td>39891.0</td>\n",
       "      <td>4.84</td>\n",
       "    </tr>\n",
       "  </tbody>\n",
       "</table>\n",
       "</div>"
      ],
      "text/plain": [
       "   YearsExperience   Salary  Squared_Of_YearsExperience\n",
       "0              1.1  39343.0                        1.21\n",
       "1              1.3  46205.0                        1.69\n",
       "2              1.5  37731.0                        2.25\n",
       "3              2.0  43525.0                        4.00\n",
       "4              2.2  39891.0                        4.84"
      ]
     },
     "execution_count": 130,
     "metadata": {},
     "output_type": "execute_result"
    }
   ],
   "source": [
    "salary_df[\"Squared_Of_YearsExperience\"]=np.square(salary_df[\"YearsExperience\"])\n",
    "\n",
    "salary_df.head()"
   ]
  },
  {
   "cell_type": "markdown",
   "id": "7b9e7146",
   "metadata": {},
   "source": [
    "### Model Building using Statsmodels"
   ]
  },
  {
   "cell_type": "code",
   "execution_count": 131,
   "id": "33528985",
   "metadata": {},
   "outputs": [
    {
     "name": "stdout",
     "output_type": "stream",
     "text": [
      "                            OLS Regression Results                            \n",
      "==============================================================================\n",
      "Dep. Variable:                 Salary   R-squared:                       0.915\n",
      "Model:                            OLS   Adj. R-squared:                  0.912\n",
      "Method:                 Least Squares   F-statistic:                     302.7\n",
      "Date:                Mon, 06 Mar 2023   Prob (F-statistic):           1.52e-16\n",
      "Time:                        11:12:57   Log-Likelihood:                -311.59\n",
      "No. Observations:                  30   AIC:                             627.2\n",
      "Df Residuals:                      28   BIC:                             630.0\n",
      "Df Model:                           1                                         \n",
      "Covariance Type:            nonrobust                                         \n",
      "============================================================================================\n",
      "                               coef    std err          t      P>|t|      [0.025      0.975]\n",
      "--------------------------------------------------------------------------------------------\n",
      "Intercept                 4.804e+04   2186.372     21.974      0.000    4.36e+04    5.25e+04\n",
      "SquaredOfYearsExperience   776.3188     44.624     17.397      0.000     684.911     867.726\n",
      "==============================================================================\n",
      "Omnibus:                        1.294   Durbin-Watson:                   0.883\n",
      "Prob(Omnibus):                  0.524   Jarque-Bera (JB):                1.240\n",
      "Skew:                           0.409   Prob(JB):                        0.538\n",
      "Kurtosis:                       2.432   Cond. No.                         72.3\n",
      "==============================================================================\n",
      "\n",
      "Notes:\n",
      "[1] Standard Errors assume that the covariance matrix of the errors is correctly specified.\n"
     ]
    }
   ],
   "source": [
    "from statsmodels.formula.api import ols\n",
    "\n",
    "salary_df=salary_df.rename({\"Squared_Of_YearsExperience\":\"SquaredOfYearsExperience\",\"Salary_Data.csv\":\"Salary\"},axis=1)\n",
    "\n",
    "model=ols(formula='Salary ~ SquaredOfYearsExperience',data=salary_df).fit()\n",
    "print(model.summary())"
   ]
  },
  {
   "cell_type": "code",
   "execution_count": 132,
   "id": "6054c24d",
   "metadata": {},
   "outputs": [
    {
     "data": {
      "text/plain": [
       "Intercept                   48042.585515\n",
       "SquaredOfYearsExperience      776.318773\n",
       "dtype: float64"
      ]
     },
     "execution_count": 132,
     "metadata": {},
     "output_type": "execute_result"
    }
   ],
   "source": [
    "model.params"
   ]
  },
  {
   "cell_type": "code",
   "execution_count": 133,
   "id": "e4bd5252",
   "metadata": {},
   "outputs": [
    {
     "data": {
      "text/plain": [
       "Intercept                   3.389190e-19\n",
       "SquaredOfYearsExperience    1.518127e-16\n",
       "dtype: float64"
      ]
     },
     "execution_count": 133,
     "metadata": {},
     "output_type": "execute_result"
    }
   ],
   "source": [
    "model.pvalues"
   ]
  },
  {
   "cell_type": "code",
   "execution_count": 134,
   "id": "6ef644d9",
   "metadata": {},
   "outputs": [
    {
     "data": {
      "text/plain": [
       "0.9153198857852565"
      ]
     },
     "execution_count": 134,
     "metadata": {},
     "output_type": "execute_result"
    }
   ],
   "source": [
    "model.rsquared"
   ]
  },
  {
   "cell_type": "markdown",
   "id": "9801c20e",
   "metadata": {},
   "source": [
    "### Model Building using SKLEARN"
   ]
  },
  {
   "cell_type": "code",
   "execution_count": 135,
   "id": "386f5436",
   "metadata": {},
   "outputs": [
    {
     "data": {
      "text/plain": [
       "LinearRegression()"
      ]
     },
     "execution_count": 135,
     "metadata": {},
     "output_type": "execute_result"
    }
   ],
   "source": [
    "from sklearn.linear_model import LinearRegression\n",
    "slr_salary=LinearRegression()\n",
    "slr_salary.fit(pd.DataFrame(salary_df['SquaredOfYearsExperience']),salary_df['Salary'])"
   ]
  },
  {
   "cell_type": "code",
   "execution_count": 136,
   "id": "ebd185cd",
   "metadata": {},
   "outputs": [
    {
     "data": {
      "text/plain": [
       "48042.585514584905"
      ]
     },
     "execution_count": 136,
     "metadata": {},
     "output_type": "execute_result"
    }
   ],
   "source": [
    "slr_salary.intercept_"
   ]
  },
  {
   "cell_type": "code",
   "execution_count": 137,
   "id": "ecf872f8",
   "metadata": {},
   "outputs": [
    {
     "data": {
      "text/plain": [
       "array([776.31877331])"
      ]
     },
     "execution_count": 137,
     "metadata": {},
     "output_type": "execute_result"
    }
   ],
   "source": [
    "slr_salary.coef_"
   ]
  },
  {
   "cell_type": "markdown",
   "id": "f8cec08e",
   "metadata": {},
   "source": [
    "### RSquared value using SKLEARN"
   ]
  },
  {
   "cell_type": "code",
   "execution_count": 138,
   "id": "bc3868a8",
   "metadata": {},
   "outputs": [
    {
     "data": {
      "text/plain": [
       "0.9153198857852564"
      ]
     },
     "execution_count": 138,
     "metadata": {},
     "output_type": "execute_result"
    }
   ],
   "source": [
    "slr_salary.score(pd.DataFrame(salary_df['SquaredOfYearsExperience']),salary_df['Salary'])"
   ]
  },
  {
   "cell_type": "markdown",
   "id": "46244dae",
   "metadata": {},
   "source": [
    "### Model Prediction with formula"
   ]
  },
  {
   "cell_type": "code",
   "execution_count": 139,
   "id": "017b1b94",
   "metadata": {},
   "outputs": [
    {
     "data": {
      "text/plain": [
       "48974.16804255799"
      ]
     },
     "execution_count": 139,
     "metadata": {},
     "output_type": "execute_result"
    }
   ],
   "source": [
    "Salary_Hike=model.params[0]+model.params[1]*1.2\n",
    "Salary_Hike"
   ]
  },
  {
   "cell_type": "markdown",
   "id": "a6c03da9",
   "metadata": {},
   "source": [
    "### Model Prediction without formula"
   ]
  },
  {
   "cell_type": "code",
   "execution_count": 140,
   "id": "c25891a0",
   "metadata": {},
   "outputs": [
    {
     "data": {
      "text/html": [
       "<div>\n",
       "<style scoped>\n",
       "    .dataframe tbody tr th:only-of-type {\n",
       "        vertical-align: middle;\n",
       "    }\n",
       "\n",
       "    .dataframe tbody tr th {\n",
       "        vertical-align: top;\n",
       "    }\n",
       "\n",
       "    .dataframe thead th {\n",
       "        text-align: right;\n",
       "    }\n",
       "</style>\n",
       "<table border=\"1\" class=\"dataframe\">\n",
       "  <thead>\n",
       "    <tr style=\"text-align: right;\">\n",
       "      <th></th>\n",
       "      <th>Salary_Hike</th>\n",
       "    </tr>\n",
       "  </thead>\n",
       "  <tbody>\n",
       "    <tr>\n",
       "      <th>0</th>\n",
       "      <td>48974.168043</td>\n",
       "    </tr>\n",
       "    <tr>\n",
       "      <th>1</th>\n",
       "      <td>50371.541835</td>\n",
       "    </tr>\n",
       "    <tr>\n",
       "      <th>2</th>\n",
       "      <td>51924.179381</td>\n",
       "    </tr>\n",
       "  </tbody>\n",
       "</table>\n",
       "</div>"
      ],
      "text/plain": [
       "    Salary_Hike\n",
       "0  48974.168043\n",
       "1  50371.541835\n",
       "2  51924.179381"
      ]
     },
     "execution_count": 140,
     "metadata": {},
     "output_type": "execute_result"
    }
   ],
   "source": [
    "Test_YearsOfExperience=pd.DataFrame([1.2,3,5],columns=[\"SquaredOfYearsExperience\"])\n",
    "Test_YearsOfExperience\n",
    "\n",
    "Salary_Hike=pd.DataFrame({\"Salary_Hike\": model.predict(Test_YearsOfExperience)})\n",
    "\n",
    "Salary_Hike"
   ]
  },
  {
   "cell_type": "code",
   "execution_count": 141,
   "id": "b638a76a",
   "metadata": {},
   "outputs": [
    {
     "data": {
      "image/png": "[encoded data removed]",
      "text/plain": [
       "<Figure size 432x288 with 1 Axes>"
      ]
     },
     "metadata": {
      "needs_background": "light"
     },
     "output_type": "display_data"
    }
   ],
   "source": [
    "sns.regplot(data=salary_df,x='SquaredOfYearsExperience',y='Salary');"
   ]
  },
  {
   "cell_type": "markdown",
   "id": "52a83bdc",
   "metadata": {},
   "source": [
    "#### Since p value is less than 0.05 this model is significant and it is able to explain 91.53% of the variation in the target variable value that is Salary Hike.b"
   ]
  },
  {
   "cell_type": "markdown",
   "id": "0f19dbc4",
   "metadata": {},
   "source": [
    "## Simple Linear Regression- Predicting Salary-Transformed Data(SquareRoot)"
   ]
  },
  {
   "cell_type": "code",
   "execution_count": 142,
   "id": "3ff0b665",
   "metadata": {},
   "outputs": [],
   "source": [
    "import pandas as pd \n",
    "import numpy as np\n",
    "import matplotlib.pyplot as plt \n",
    "import seaborn as sns"
   ]
  },
  {
   "cell_type": "code",
   "execution_count": 143,
   "id": "4d2ae089",
   "metadata": {},
   "outputs": [
    {
     "data": {
      "text/html": [
       "<div>\n",
       "<style scoped>\n",
       "    .dataframe tbody tr th:only-of-type {\n",
       "        vertical-align: middle;\n",
       "    }\n",
       "\n",
       "    .dataframe tbody tr th {\n",
       "        vertical-align: top;\n",
       "    }\n",
       "\n",
       "    .dataframe thead th {\n",
       "        text-align: right;\n",
       "    }\n",
       "</style>\n",
       "<table border=\"1\" class=\"dataframe\">\n",
       "  <thead>\n",
       "    <tr style=\"text-align: right;\">\n",
       "      <th></th>\n",
       "      <th>YearsExperience</th>\n",
       "      <th>Salary</th>\n",
       "    </tr>\n",
       "  </thead>\n",
       "  <tbody>\n",
       "    <tr>\n",
       "      <th>0</th>\n",
       "      <td>1.1</td>\n",
       "      <td>39343.0</td>\n",
       "    </tr>\n",
       "    <tr>\n",
       "      <th>1</th>\n",
       "      <td>1.3</td>\n",
       "      <td>46205.0</td>\n",
       "    </tr>\n",
       "    <tr>\n",
       "      <th>2</th>\n",
       "      <td>1.5</td>\n",
       "      <td>37731.0</td>\n",
       "    </tr>\n",
       "    <tr>\n",
       "      <th>3</th>\n",
       "      <td>2.0</td>\n",
       "      <td>43525.0</td>\n",
       "    </tr>\n",
       "    <tr>\n",
       "      <th>4</th>\n",
       "      <td>2.2</td>\n",
       "      <td>39891.0</td>\n",
       "    </tr>\n",
       "  </tbody>\n",
       "</table>\n",
       "</div>"
      ],
      "text/plain": [
       "   YearsExperience   Salary\n",
       "0              1.1  39343.0\n",
       "1              1.3  46205.0\n",
       "2              1.5  37731.0\n",
       "3              2.0  43525.0\n",
       "4              2.2  39891.0"
      ]
     },
     "execution_count": 143,
     "metadata": {},
     "output_type": "execute_result"
    }
   ],
   "source": [
    "salary_df=pd.read_csv(\"Salary_Data.csv\")\n",
    "\n",
    "salary_df.head()"
   ]
  },
  {
   "cell_type": "code",
   "execution_count": 144,
   "id": "7af4e130",
   "metadata": {},
   "outputs": [
    {
     "data": {
      "text/html": [
       "<div>\n",
       "<style scoped>\n",
       "    .dataframe tbody tr th:only-of-type {\n",
       "        vertical-align: middle;\n",
       "    }\n",
       "\n",
       "    .dataframe tbody tr th {\n",
       "        vertical-align: top;\n",
       "    }\n",
       "\n",
       "    .dataframe thead th {\n",
       "        text-align: right;\n",
       "    }\n",
       "</style>\n",
       "<table border=\"1\" class=\"dataframe\">\n",
       "  <thead>\n",
       "    <tr style=\"text-align: right;\">\n",
       "      <th></th>\n",
       "      <th>YearsExperience</th>\n",
       "      <th>Salary</th>\n",
       "      <th>SquareRoot_Of_YearsExperience</th>\n",
       "    </tr>\n",
       "  </thead>\n",
       "  <tbody>\n",
       "    <tr>\n",
       "      <th>0</th>\n",
       "      <td>1.1</td>\n",
       "      <td>39343.0</td>\n",
       "      <td>1.048809</td>\n",
       "    </tr>\n",
       "    <tr>\n",
       "      <th>1</th>\n",
       "      <td>1.3</td>\n",
       "      <td>46205.0</td>\n",
       "      <td>1.140175</td>\n",
       "    </tr>\n",
       "    <tr>\n",
       "      <th>2</th>\n",
       "      <td>1.5</td>\n",
       "      <td>37731.0</td>\n",
       "      <td>1.224745</td>\n",
       "    </tr>\n",
       "    <tr>\n",
       "      <th>3</th>\n",
       "      <td>2.0</td>\n",
       "      <td>43525.0</td>\n",
       "      <td>1.414214</td>\n",
       "    </tr>\n",
       "    <tr>\n",
       "      <th>4</th>\n",
       "      <td>2.2</td>\n",
       "      <td>39891.0</td>\n",
       "      <td>1.483240</td>\n",
       "    </tr>\n",
       "  </tbody>\n",
       "</table>\n",
       "</div>"
      ],
      "text/plain": [
       "   YearsExperience   Salary  SquareRoot_Of_YearsExperience\n",
       "0              1.1  39343.0                       1.048809\n",
       "1              1.3  46205.0                       1.140175\n",
       "2              1.5  37731.0                       1.224745\n",
       "3              2.0  43525.0                       1.414214\n",
       "4              2.2  39891.0                       1.483240"
      ]
     },
     "execution_count": 144,
     "metadata": {},
     "output_type": "execute_result"
    }
   ],
   "source": [
    "salary_df[\"SquareRoot_Of_YearsExperience\"]=np.sqrt(salary_df[\"YearsExperience\"])\n",
    "\n",
    "salary_df.head()"
   ]
  },
  {
   "cell_type": "markdown",
   "id": "5ee35d0f",
   "metadata": {},
   "source": [
    "### Model Building using Statsmodels"
   ]
  },
  {
   "cell_type": "code",
   "execution_count": 145,
   "id": "1e686db8",
   "metadata": {},
   "outputs": [
    {
     "name": "stdout",
     "output_type": "stream",
     "text": [
      "                            OLS Regression Results                            \n",
      "==============================================================================\n",
      "Dep. Variable:                 Salary   R-squared:                       0.931\n",
      "Model:                            OLS   Adj. R-squared:                  0.929\n",
      "Method:                 Least Squares   F-statistic:                     377.8\n",
      "Date:                Mon, 06 Mar 2023   Prob (F-statistic):           8.57e-18\n",
      "Time:                        11:12:57   Log-Likelihood:                -308.52\n",
      "No. Observations:                  30   AIC:                             621.0\n",
      "Df Residuals:                      28   BIC:                             623.8\n",
      "Df Model:                           1                                         \n",
      "Covariance Type:            nonrobust                                         \n",
      "===============================================================================================\n",
      "                                  coef    std err          t      P>|t|      [0.025      0.975]\n",
      "-----------------------------------------------------------------------------------------------\n",
      "Intercept                   -1.606e+04   4921.599     -3.262      0.003   -2.61e+04   -5974.331\n",
      "SquareRootOfYearsExperience   4.15e+04   2135.122     19.437      0.000    3.71e+04    4.59e+04\n",
      "==============================================================================\n",
      "Omnibus:                        0.588   Durbin-Watson:                   1.031\n",
      "Prob(Omnibus):                  0.745   Jarque-Bera (JB):                0.638\n",
      "Skew:                           0.011   Prob(JB):                        0.727\n",
      "Kurtosis:                       2.286   Cond. No.                         9.97\n",
      "==============================================================================\n",
      "\n",
      "Notes:\n",
      "[1] Standard Errors assume that the covariance matrix of the errors is correctly specified.\n"
     ]
    }
   ],
   "source": [
    "from statsmodels.formula.api import ols\n",
    "\n",
    "salary_df=salary_df.rename({\"SquareRoot_Of_YearsExperience\":\"SquareRootOfYearsExperience\",\"Salary_Data.csv\":\"Salary\"},axis=1)\n",
    "\n",
    "model=ols(formula='Salary ~ SquareRootOfYearsExperience',data=salary_df).fit()\n",
    "print(model.summary())"
   ]
  },
  {
   "cell_type": "code",
   "execution_count": 146,
   "id": "587d0531",
   "metadata": {},
   "outputs": [
    {
     "data": {
      "text/plain": [
       "Intercept                     -16055.769117\n",
       "SquareRootOfYearsExperience    41500.680583\n",
       "dtype: float64"
      ]
     },
     "execution_count": 146,
     "metadata": {},
     "output_type": "execute_result"
    }
   ],
   "source": [
    "model.params"
   ]
  },
  {
   "cell_type": "code",
   "execution_count": 147,
   "id": "66632e5b",
   "metadata": {},
   "outputs": [
    {
     "data": {
      "text/plain": [
       "Intercept                      2.906965e-03\n",
       "SquareRootOfYearsExperience    8.565358e-18\n",
       "dtype: float64"
      ]
     },
     "execution_count": 147,
     "metadata": {},
     "output_type": "execute_result"
    }
   ],
   "source": [
    "model.pvalues"
   ]
  },
  {
   "cell_type": "code",
   "execution_count": 148,
   "id": "3c06d5f0",
   "metadata": {},
   "outputs": [
    {
     "data": {
      "text/plain": [
       "0.9310009544993526"
      ]
     },
     "execution_count": 148,
     "metadata": {},
     "output_type": "execute_result"
    }
   ],
   "source": [
    "model.rsquared"
   ]
  },
  {
   "cell_type": "markdown",
   "id": "e43781dd",
   "metadata": {},
   "source": [
    "### Model Building using SKLEARN"
   ]
  },
  {
   "cell_type": "code",
   "execution_count": 149,
   "id": "dbf87983",
   "metadata": {},
   "outputs": [
    {
     "data": {
      "text/plain": [
       "LinearRegression()"
      ]
     },
     "execution_count": 149,
     "metadata": {},
     "output_type": "execute_result"
    }
   ],
   "source": [
    "from sklearn.linear_model import LinearRegression\n",
    "slr_salary=LinearRegression()\n",
    "slr_salary.fit(pd.DataFrame(salary_df['SquareRootOfYearsExperience']),salary_df['Salary'])"
   ]
  },
  {
   "cell_type": "code",
   "execution_count": 150,
   "id": "cda2bae8",
   "metadata": {},
   "outputs": [
    {
     "data": {
      "text/plain": [
       "-16055.769116956377"
      ]
     },
     "execution_count": 150,
     "metadata": {},
     "output_type": "execute_result"
    }
   ],
   "source": [
    "slr_salary.intercept_"
   ]
  },
  {
   "cell_type": "code",
   "execution_count": 151,
   "id": "a053b439",
   "metadata": {},
   "outputs": [
    {
     "data": {
      "text/plain": [
       "array([41500.68058303])"
      ]
     },
     "execution_count": 151,
     "metadata": {},
     "output_type": "execute_result"
    }
   ],
   "source": [
    "slr_salary.coef_"
   ]
  },
  {
   "cell_type": "markdown",
   "id": "0f07a86b",
   "metadata": {},
   "source": [
    "### RSquared value using SKLEARN"
   ]
  },
  {
   "cell_type": "code",
   "execution_count": 152,
   "id": "2dbbec1b",
   "metadata": {},
   "outputs": [
    {
     "data": {
      "text/plain": [
       "0.9310009544993526"
      ]
     },
     "execution_count": 152,
     "metadata": {},
     "output_type": "execute_result"
    }
   ],
   "source": [
    "slr_salary.score(pd.DataFrame(salary_df['SquareRootOfYearsExperience']),salary_df['Salary'])"
   ]
  },
  {
   "cell_type": "markdown",
   "id": "9e40b755",
   "metadata": {},
   "source": [
    "### Model Prediction with formula"
   ]
  },
  {
   "cell_type": "code",
   "execution_count": 153,
   "id": "65e0fb05",
   "metadata": {},
   "outputs": [
    {
     "data": {
      "text/plain": [
       "33745.047582674204"
      ]
     },
     "execution_count": 153,
     "metadata": {},
     "output_type": "execute_result"
    }
   ],
   "source": [
    "Salary_Hike=model.params[0]+model.params[1]*1.2\n",
    "Salary_Hike"
   ]
  },
  {
   "cell_type": "markdown",
   "id": "0e17e1eb",
   "metadata": {},
   "source": [
    "### Model Prediction without formula"
   ]
  },
  {
   "cell_type": "code",
   "execution_count": 154,
   "id": "59e743dc",
   "metadata": {},
   "outputs": [
    {
     "data": {
      "text/html": [
       "<div>\n",
       "<style scoped>\n",
       "    .dataframe tbody tr th:only-of-type {\n",
       "        vertical-align: middle;\n",
       "    }\n",
       "\n",
       "    .dataframe tbody tr th {\n",
       "        vertical-align: top;\n",
       "    }\n",
       "\n",
       "    .dataframe thead th {\n",
       "        text-align: right;\n",
       "    }\n",
       "</style>\n",
       "<table border=\"1\" class=\"dataframe\">\n",
       "  <thead>\n",
       "    <tr style=\"text-align: right;\">\n",
       "      <th></th>\n",
       "      <th>Salary_Hike</th>\n",
       "    </tr>\n",
       "  </thead>\n",
       "  <tbody>\n",
       "    <tr>\n",
       "      <th>0</th>\n",
       "      <td>33745.047583</td>\n",
       "    </tr>\n",
       "    <tr>\n",
       "      <th>1</th>\n",
       "      <td>108446.272632</td>\n",
       "    </tr>\n",
       "    <tr>\n",
       "      <th>2</th>\n",
       "      <td>191447.633798</td>\n",
       "    </tr>\n",
       "  </tbody>\n",
       "</table>\n",
       "</div>"
      ],
      "text/plain": [
       "     Salary_Hike\n",
       "0   33745.047583\n",
       "1  108446.272632\n",
       "2  191447.633798"
      ]
     },
     "execution_count": 154,
     "metadata": {},
     "output_type": "execute_result"
    }
   ],
   "source": [
    "Test_YearsOfExperience=pd.DataFrame([1.2,3,5],columns=[\"SquareRootOfYearsExperience\"])\n",
    "Test_YearsOfExperience\n",
    "\n",
    "Salary_Hike=pd.DataFrame({\"Salary_Hike\": model.predict(Test_YearsOfExperience)})\n",
    "\n",
    "Salary_Hike"
   ]
  },
  {
   "cell_type": "code",
   "execution_count": 155,
   "id": "3a406de1",
   "metadata": {},
   "outputs": [
    {
     "data": {
      "image/png": "[encoded data removed]",
      "text/plain": [
       "<Figure size 432x288 with 1 Axes>"
      ]
     },
     "metadata": {
      "needs_background": "light"
     },
     "output_type": "display_data"
    }
   ],
   "source": [
    "sns.regplot(data=salary_df,x='SquareRootOfYearsExperience',y='Salary');"
   ]
  },
  {
   "cell_type": "markdown",
   "id": "7d57685e",
   "metadata": {},
   "source": [
    "#### Since p value is less than 0.05 this model is significant and it is able to explain 93.10% of the variation in the target variable value that is Salary Hike."
   ]
  },
  {
   "cell_type": "markdown",
   "id": "25627a8b",
   "metadata": {},
   "source": [
    "## Simple Linear Regression- Predicting Salary-Transformed Data(Exponential)"
   ]
  },
  {
   "cell_type": "code",
   "execution_count": 156,
   "id": "9a45a8bf",
   "metadata": {},
   "outputs": [],
   "source": [
    "import pandas as pd \n",
    "import numpy as np\n",
    "import matplotlib.pyplot as plt \n",
    "import seaborn as sns"
   ]
  },
  {
   "cell_type": "code",
   "execution_count": 157,
   "id": "7945f9c1",
   "metadata": {},
   "outputs": [
    {
     "data": {
      "text/html": [
       "<div>\n",
       "<style scoped>\n",
       "    .dataframe tbody tr th:only-of-type {\n",
       "        vertical-align: middle;\n",
       "    }\n",
       "\n",
       "    .dataframe tbody tr th {\n",
       "        vertical-align: top;\n",
       "    }\n",
       "\n",
       "    .dataframe thead th {\n",
       "        text-align: right;\n",
       "    }\n",
       "</style>\n",
       "<table border=\"1\" class=\"dataframe\">\n",
       "  <thead>\n",
       "    <tr style=\"text-align: right;\">\n",
       "      <th></th>\n",
       "      <th>YearsExperience</th>\n",
       "      <th>Salary</th>\n",
       "    </tr>\n",
       "  </thead>\n",
       "  <tbody>\n",
       "    <tr>\n",
       "      <th>0</th>\n",
       "      <td>1.1</td>\n",
       "      <td>39343.0</td>\n",
       "    </tr>\n",
       "    <tr>\n",
       "      <th>1</th>\n",
       "      <td>1.3</td>\n",
       "      <td>46205.0</td>\n",
       "    </tr>\n",
       "    <tr>\n",
       "      <th>2</th>\n",
       "      <td>1.5</td>\n",
       "      <td>37731.0</td>\n",
       "    </tr>\n",
       "    <tr>\n",
       "      <th>3</th>\n",
       "      <td>2.0</td>\n",
       "      <td>43525.0</td>\n",
       "    </tr>\n",
       "    <tr>\n",
       "      <th>4</th>\n",
       "      <td>2.2</td>\n",
       "      <td>39891.0</td>\n",
       "    </tr>\n",
       "  </tbody>\n",
       "</table>\n",
       "</div>"
      ],
      "text/plain": [
       "   YearsExperience   Salary\n",
       "0              1.1  39343.0\n",
       "1              1.3  46205.0\n",
       "2              1.5  37731.0\n",
       "3              2.0  43525.0\n",
       "4              2.2  39891.0"
      ]
     },
     "execution_count": 157,
     "metadata": {},
     "output_type": "execute_result"
    }
   ],
   "source": [
    "salary_df=pd.read_csv(\"Salary_Data.csv\")\n",
    "\n",
    "salary_df.head()"
   ]
  },
  {
   "cell_type": "code",
   "execution_count": 158,
   "id": "b6af22e6",
   "metadata": {},
   "outputs": [
    {
     "data": {
      "text/html": [
       "<div>\n",
       "<style scoped>\n",
       "    .dataframe tbody tr th:only-of-type {\n",
       "        vertical-align: middle;\n",
       "    }\n",
       "\n",
       "    .dataframe tbody tr th {\n",
       "        vertical-align: top;\n",
       "    }\n",
       "\n",
       "    .dataframe thead th {\n",
       "        text-align: right;\n",
       "    }\n",
       "</style>\n",
       "<table border=\"1\" class=\"dataframe\">\n",
       "  <thead>\n",
       "    <tr style=\"text-align: right;\">\n",
       "      <th></th>\n",
       "      <th>YearsExperience</th>\n",
       "      <th>Salary</th>\n",
       "      <th>Exponential_Of_YearsExperience</th>\n",
       "    </tr>\n",
       "  </thead>\n",
       "  <tbody>\n",
       "    <tr>\n",
       "      <th>0</th>\n",
       "      <td>1.1</td>\n",
       "      <td>39343.0</td>\n",
       "      <td>3.004166</td>\n",
       "    </tr>\n",
       "    <tr>\n",
       "      <th>1</th>\n",
       "      <td>1.3</td>\n",
       "      <td>46205.0</td>\n",
       "      <td>3.669297</td>\n",
       "    </tr>\n",
       "    <tr>\n",
       "      <th>2</th>\n",
       "      <td>1.5</td>\n",
       "      <td>37731.0</td>\n",
       "      <td>4.481689</td>\n",
       "    </tr>\n",
       "    <tr>\n",
       "      <th>3</th>\n",
       "      <td>2.0</td>\n",
       "      <td>43525.0</td>\n",
       "      <td>7.389056</td>\n",
       "    </tr>\n",
       "    <tr>\n",
       "      <th>4</th>\n",
       "      <td>2.2</td>\n",
       "      <td>39891.0</td>\n",
       "      <td>9.025013</td>\n",
       "    </tr>\n",
       "  </tbody>\n",
       "</table>\n",
       "</div>"
      ],
      "text/plain": [
       "   YearsExperience   Salary  Exponential_Of_YearsExperience\n",
       "0              1.1  39343.0                        3.004166\n",
       "1              1.3  46205.0                        3.669297\n",
       "2              1.5  37731.0                        4.481689\n",
       "3              2.0  43525.0                        7.389056\n",
       "4              2.2  39891.0                        9.025013"
      ]
     },
     "execution_count": 158,
     "metadata": {},
     "output_type": "execute_result"
    }
   ],
   "source": [
    "salary_df[\"Exponential_Of_YearsExperience\"]=np.exp(salary_df[\"YearsExperience\"])\n",
    "\n",
    "salary_df.head()"
   ]
  },
  {
   "cell_type": "markdown",
   "id": "affe1602",
   "metadata": {},
   "source": [
    "### Model Building using Statsmodels"
   ]
  },
  {
   "cell_type": "code",
   "execution_count": 159,
   "id": "9c07c425",
   "metadata": {},
   "outputs": [
    {
     "name": "stdout",
     "output_type": "stream",
     "text": [
      "                            OLS Regression Results                            \n",
      "==============================================================================\n",
      "Dep. Variable:                 Salary   R-squared:                       0.472\n",
      "Model:                            OLS   Adj. R-squared:                  0.454\n",
      "Method:                 Least Squares   F-statistic:                     25.07\n",
      "Date:                Mon, 06 Mar 2023   Prob (F-statistic):           2.72e-05\n",
      "Time:                        11:12:58   Log-Likelihood:                -339.03\n",
      "No. Observations:                  30   AIC:                             682.1\n",
      "Df Residuals:                      28   BIC:                             684.9\n",
      "Df Model:                           1                                         \n",
      "Covariance Type:            nonrobust                                         \n",
      "================================================================================================\n",
      "                                   coef    std err          t      P>|t|      [0.025      0.975]\n",
      "------------------------------------------------------------------------------------------------\n",
      "Intercept                     6.757e+04   4065.396     16.620      0.000    5.92e+04    7.59e+04\n",
      "ExponentialOfYearsExperience     2.1360      0.427      5.007      0.000       1.262       3.010\n",
      "==============================================================================\n",
      "Omnibus:                        4.567   Durbin-Watson:                   0.202\n",
      "Prob(Omnibus):                  0.102   Jarque-Bera (JB):                1.966\n",
      "Skew:                           0.276   Prob(JB):                        0.374\n",
      "Kurtosis:                       1.874   Cond. No.                     1.05e+04\n",
      "==============================================================================\n",
      "\n",
      "Notes:\n",
      "[1] Standard Errors assume that the covariance matrix of the errors is correctly specified.\n",
      "[2] The condition number is large, 1.05e+04. This might indicate that there are\n",
      "strong multicollinearity or other numerical problems.\n"
     ]
    }
   ],
   "source": [
    "from statsmodels.formula.api import ols\n",
    "\n",
    "salary_df=salary_df.rename({\"Exponential_Of_YearsExperience\":\"ExponentialOfYearsExperience\",\"Salary_Data.csv\":\"Salary\"},axis=1)\n",
    "\n",
    "model=ols(formula='Salary ~ ExponentialOfYearsExperience',data=salary_df).fit()\n",
    "print(model.summary())"
   ]
  },
  {
   "cell_type": "code",
   "execution_count": 160,
   "id": "45740b9e",
   "metadata": {},
   "outputs": [
    {
     "data": {
      "text/plain": [
       "Intercept                       67568.624969\n",
       "ExponentialOfYearsExperience        2.136040\n",
       "dtype: float64"
      ]
     },
     "execution_count": 160,
     "metadata": {},
     "output_type": "execute_result"
    }
   ],
   "source": [
    "model.params"
   ]
  },
  {
   "cell_type": "code",
   "execution_count": 161,
   "id": "f49b3986",
   "metadata": {},
   "outputs": [
    {
     "data": {
      "text/plain": [
       "Intercept                       4.888835e-16\n",
       "ExponentialOfYearsExperience    2.721588e-05\n",
       "dtype: float64"
      ]
     },
     "execution_count": 161,
     "metadata": {},
     "output_type": "execute_result"
    }
   ],
   "source": [
    "model.pvalues"
   ]
  },
  {
   "cell_type": "code",
   "execution_count": 162,
   "id": "e2cb35c3",
   "metadata": {},
   "outputs": [
    {
     "data": {
      "text/plain": [
       "0.47238440560728734"
      ]
     },
     "execution_count": 162,
     "metadata": {},
     "output_type": "execute_result"
    }
   ],
   "source": [
    "model.rsquared"
   ]
  },
  {
   "cell_type": "markdown",
   "id": "e2b14fe4",
   "metadata": {},
   "source": [
    "### Model Building using SKLEARN"
   ]
  },
  {
   "cell_type": "code",
   "execution_count": 163,
   "id": "6fa59214",
   "metadata": {},
   "outputs": [
    {
     "data": {
      "text/plain": [
       "LinearRegression()"
      ]
     },
     "execution_count": 163,
     "metadata": {},
     "output_type": "execute_result"
    }
   ],
   "source": [
    "from sklearn.linear_model import LinearRegression\n",
    "slr_salary=LinearRegression()\n",
    "slr_salary.fit(pd.DataFrame(salary_df['ExponentialOfYearsExperience']),salary_df['Salary'])"
   ]
  },
  {
   "cell_type": "code",
   "execution_count": 164,
   "id": "0aa49e00",
   "metadata": {},
   "outputs": [
    {
     "data": {
      "text/plain": [
       "67568.62496898072"
      ]
     },
     "execution_count": 164,
     "metadata": {},
     "output_type": "execute_result"
    }
   ],
   "source": [
    "slr_salary.intercept_"
   ]
  },
  {
   "cell_type": "code",
   "execution_count": 165,
   "id": "4ce8c27a",
   "metadata": {},
   "outputs": [
    {
     "data": {
      "text/plain": [
       "array([2.13604036])"
      ]
     },
     "execution_count": 165,
     "metadata": {},
     "output_type": "execute_result"
    }
   ],
   "source": [
    "slr_salary.coef_"
   ]
  },
  {
   "cell_type": "markdown",
   "id": "542ab963",
   "metadata": {},
   "source": [
    "### RSquared value using SKLEARN"
   ]
  },
  {
   "cell_type": "code",
   "execution_count": 166,
   "id": "b206983b",
   "metadata": {},
   "outputs": [
    {
     "data": {
      "text/plain": [
       "0.47238440560728745"
      ]
     },
     "execution_count": 166,
     "metadata": {},
     "output_type": "execute_result"
    }
   ],
   "source": [
    "slr_salary.score(pd.DataFrame(salary_df['ExponentialOfYearsExperience']),salary_df['Salary'])"
   ]
  },
  {
   "cell_type": "markdown",
   "id": "34ff66cc",
   "metadata": {},
   "source": [
    "### Model Prediction with formula"
   ]
  },
  {
   "cell_type": "code",
   "execution_count": 167,
   "id": "c3ca8cbb",
   "metadata": {},
   "outputs": [
    {
     "data": {
      "text/plain": [
       "67571.18821741105"
      ]
     },
     "execution_count": 167,
     "metadata": {},
     "output_type": "execute_result"
    }
   ],
   "source": [
    "Salary_Hike=model.params[0]+model.params[1]*1.2\n",
    "Salary_Hike"
   ]
  },
  {
   "cell_type": "markdown",
   "id": "daf9479c",
   "metadata": {},
   "source": [
    "### Model Prediction without formula"
   ]
  },
  {
   "cell_type": "code",
   "execution_count": 168,
   "id": "c1653567",
   "metadata": {},
   "outputs": [
    {
     "data": {
      "text/html": [
       "<div>\n",
       "<style scoped>\n",
       "    .dataframe tbody tr th:only-of-type {\n",
       "        vertical-align: middle;\n",
       "    }\n",
       "\n",
       "    .dataframe tbody tr th {\n",
       "        vertical-align: top;\n",
       "    }\n",
       "\n",
       "    .dataframe thead th {\n",
       "        text-align: right;\n",
       "    }\n",
       "</style>\n",
       "<table border=\"1\" class=\"dataframe\">\n",
       "  <thead>\n",
       "    <tr style=\"text-align: right;\">\n",
       "      <th></th>\n",
       "      <th>Salary_Hike</th>\n",
       "    </tr>\n",
       "  </thead>\n",
       "  <tbody>\n",
       "    <tr>\n",
       "      <th>0</th>\n",
       "      <td>67571.188217</td>\n",
       "    </tr>\n",
       "    <tr>\n",
       "      <th>1</th>\n",
       "      <td>67575.033090</td>\n",
       "    </tr>\n",
       "    <tr>\n",
       "      <th>2</th>\n",
       "      <td>67579.305171</td>\n",
       "    </tr>\n",
       "  </tbody>\n",
       "</table>\n",
       "</div>"
      ],
      "text/plain": [
       "    Salary_Hike\n",
       "0  67571.188217\n",
       "1  67575.033090\n",
       "2  67579.305171"
      ]
     },
     "execution_count": 168,
     "metadata": {},
     "output_type": "execute_result"
    }
   ],
   "source": [
    "Test_YearsOfExperience=pd.DataFrame([1.2,3,5],columns=[\"ExponentialOfYearsExperience\"])\n",
    "Test_YearsOfExperience\n",
    "\n",
    "Salary_Hike=pd.DataFrame({\"Salary_Hike\": model.predict(Test_YearsOfExperience)})\n",
    "\n",
    "Salary_Hike"
   ]
  },
  {
   "cell_type": "code",
   "execution_count": 169,
   "id": "9b7f26e3",
   "metadata": {},
   "outputs": [
    {
     "data": {
      "image/png": "[encoded data removed]",
      "text/plain": [
       "<Figure size 432x288 with 1 Axes>"
      ]
     },
     "metadata": {
      "needs_background": "light"
     },
     "output_type": "display_data"
    }
   ],
   "source": [
    "sns.regplot(data=salary_df,x='ExponentialOfYearsExperience',y='Salary');"
   ]
  },
  {
   "cell_type": "markdown",
   "id": "f4e68025",
   "metadata": {},
   "source": [
    "#### Since p value is less than 0.05 this model is significant and it is able to explain 47.23% of the variation in the target variable value that is Salary Hike."
   ]
  }
 ],
 "metadata": {
  "kernelspec": {
   "display_name": "Python 3 (ipykernel)",
   "language": "python",
   "name": "python3"
  },
  "language_info": {
   "codemirror_mode": {
    "name": "ipython",
    "version": 3
   },
   "file_extension": ".py",
   "mimetype": "text/x-python",
   "name": "python",
   "nbconvert_exporter": "python",
   "pygments_lexer": "ipython3",
   "version": "3.7.15"
  }
 },
 "nbformat": 4,
 "nbformat_minor": 5
}
